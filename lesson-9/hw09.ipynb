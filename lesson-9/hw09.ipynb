{
 "cells": [
  {
   "cell_type": "markdown",
   "metadata": {
    "colab_type": "text",
    "id": "Xljx8j0-_jXR"
   },
   "source": [
    "### * Домашнее задание: Многоклассовая классификация"
   ]
  },
  {
   "cell_type": "markdown",
   "metadata": {
    "colab_type": "text",
    "id": "bVx_WNaKwibO"
   },
   "source": [
    "В текущем домашнем задание предлагается построить модель многоклассовой классификации для показателя `RiskVar`. Воспользуемся другими частями датасета freMPL (1 и 2)."
   ]
  },
  {
   "cell_type": "code",
   "execution_count": 1,
   "metadata": {
    "colab": {},
    "colab_type": "code",
    "id": "n98J3UNxSLUd"
   },
   "outputs": [],
   "source": [
    "import pandas as pd\n",
    "import numpy as np\n",
    "import xgboost as xgb\n",
    "import matplotlib.pyplot as plt\n",
    "from sklearn.model_selection import train_test_split\n",
    "from sklearn.metrics import f1_score, accuracy_score, confusion_matrix\n",
    "from hyperopt import hp, tpe, space_eval\n",
    "from hyperopt.fmin import fmin\n",
    "\n",
    "pd.set_option('display.max_columns', None)\n",
    "\n",
    "def SeriesFactorizer(series):\n",
    "    series, unique = pd.factorize(series)\n",
    "    reference = {x: i for x, i in enumerate(unique)}\n",
    "    print(reference)\n",
    "    return series, reference"
   ]
  },
  {
   "cell_type": "code",
   "execution_count": 2,
   "metadata": {
    "colab": {},
    "colab_type": "code",
    "id": "cdgTw4I-7GdC"
   },
   "outputs": [],
   "source": [
    "df = pd.read_csv('data/freMPL-R.csv', low_memory=False)"
   ]
  },
  {
   "cell_type": "code",
   "execution_count": 3,
   "metadata": {
    "colab": {},
    "colab_type": "code",
    "id": "v__1kPsuSrVd"
   },
   "outputs": [],
   "source": [
    "df = df.loc[df.Dataset.isin([1, 2])]\n",
    "df.drop('Dataset', axis=1, inplace=True)\n",
    "df.dropna(axis=1, how='all', inplace=True)\n",
    "df.drop_duplicates(inplace=True)\n",
    "df.reset_index(drop=True, inplace=True)"
   ]
  },
  {
   "cell_type": "code",
   "execution_count": 4,
   "metadata": {
    "colab": {
     "base_uri": "https://localhost:8080/",
     "height": 351
    },
    "colab_type": "code",
    "id": "cCKtHz0eBWEG",
    "outputId": "a640cc42-8738-4029-d22d-41cf1ff040ae"
   },
   "outputs": [
    {
     "data": {
      "text/html": [
       "<div>\n",
       "<style scoped>\n",
       "    .dataframe tbody tr th:only-of-type {\n",
       "        vertical-align: middle;\n",
       "    }\n",
       "\n",
       "    .dataframe tbody tr th {\n",
       "        vertical-align: top;\n",
       "    }\n",
       "\n",
       "    .dataframe thead th {\n",
       "        text-align: right;\n",
       "    }\n",
       "</style>\n",
       "<table border=\"1\" class=\"dataframe\">\n",
       "  <thead>\n",
       "    <tr style=\"text-align: right;\">\n",
       "      <th></th>\n",
       "      <th>Exposure</th>\n",
       "      <th>LicAge</th>\n",
       "      <th>RecordBeg</th>\n",
       "      <th>RecordEnd</th>\n",
       "      <th>VehAge</th>\n",
       "      <th>Gender</th>\n",
       "      <th>MariStat</th>\n",
       "      <th>SocioCateg</th>\n",
       "      <th>VehUsage</th>\n",
       "      <th>DrivAge</th>\n",
       "      <th>HasKmLimit</th>\n",
       "      <th>BonusMalus</th>\n",
       "      <th>VehBody</th>\n",
       "      <th>VehPrice</th>\n",
       "      <th>VehEngine</th>\n",
       "      <th>VehEnergy</th>\n",
       "      <th>VehMaxSpeed</th>\n",
       "      <th>VehClass</th>\n",
       "      <th>ClaimAmount</th>\n",
       "      <th>RiskVar</th>\n",
       "      <th>Garage</th>\n",
       "      <th>ClaimInd</th>\n",
       "    </tr>\n",
       "  </thead>\n",
       "  <tbody>\n",
       "    <tr>\n",
       "      <th>0</th>\n",
       "      <td>0.583</td>\n",
       "      <td>366</td>\n",
       "      <td>2004-06-01</td>\n",
       "      <td>NaN</td>\n",
       "      <td>2</td>\n",
       "      <td>Female</td>\n",
       "      <td>Other</td>\n",
       "      <td>CSP1</td>\n",
       "      <td>Professional</td>\n",
       "      <td>55</td>\n",
       "      <td>0</td>\n",
       "      <td>72</td>\n",
       "      <td>sedan</td>\n",
       "      <td>D</td>\n",
       "      <td>injection</td>\n",
       "      <td>regular</td>\n",
       "      <td>160-170 km/h</td>\n",
       "      <td>B</td>\n",
       "      <td>0.000000</td>\n",
       "      <td>15.0</td>\n",
       "      <td>None</td>\n",
       "      <td>0</td>\n",
       "    </tr>\n",
       "    <tr>\n",
       "      <th>1</th>\n",
       "      <td>0.200</td>\n",
       "      <td>187</td>\n",
       "      <td>2004-10-19</td>\n",
       "      <td>NaN</td>\n",
       "      <td>0</td>\n",
       "      <td>Male</td>\n",
       "      <td>Alone</td>\n",
       "      <td>CSP55</td>\n",
       "      <td>Private+trip to office</td>\n",
       "      <td>34</td>\n",
       "      <td>0</td>\n",
       "      <td>80</td>\n",
       "      <td>microvan</td>\n",
       "      <td>K</td>\n",
       "      <td>direct injection overpowered</td>\n",
       "      <td>diesel</td>\n",
       "      <td>170-180 km/h</td>\n",
       "      <td>M1</td>\n",
       "      <td>0.000000</td>\n",
       "      <td>20.0</td>\n",
       "      <td>None</td>\n",
       "      <td>0</td>\n",
       "    </tr>\n",
       "    <tr>\n",
       "      <th>2</th>\n",
       "      <td>0.083</td>\n",
       "      <td>169</td>\n",
       "      <td>2004-07-16</td>\n",
       "      <td>2004-08-16</td>\n",
       "      <td>1</td>\n",
       "      <td>Female</td>\n",
       "      <td>Other</td>\n",
       "      <td>CSP1</td>\n",
       "      <td>Professional</td>\n",
       "      <td>33</td>\n",
       "      <td>0</td>\n",
       "      <td>63</td>\n",
       "      <td>other microvan</td>\n",
       "      <td>L</td>\n",
       "      <td>direct injection overpowered</td>\n",
       "      <td>diesel</td>\n",
       "      <td>170-180 km/h</td>\n",
       "      <td>M1</td>\n",
       "      <td>0.000000</td>\n",
       "      <td>17.0</td>\n",
       "      <td>None</td>\n",
       "      <td>0</td>\n",
       "    </tr>\n",
       "    <tr>\n",
       "      <th>3</th>\n",
       "      <td>0.375</td>\n",
       "      <td>170</td>\n",
       "      <td>2004-08-16</td>\n",
       "      <td>NaN</td>\n",
       "      <td>1</td>\n",
       "      <td>Female</td>\n",
       "      <td>Other</td>\n",
       "      <td>CSP1</td>\n",
       "      <td>Professional</td>\n",
       "      <td>34</td>\n",
       "      <td>0</td>\n",
       "      <td>63</td>\n",
       "      <td>other microvan</td>\n",
       "      <td>L</td>\n",
       "      <td>direct injection overpowered</td>\n",
       "      <td>diesel</td>\n",
       "      <td>170-180 km/h</td>\n",
       "      <td>M1</td>\n",
       "      <td>0.000000</td>\n",
       "      <td>17.0</td>\n",
       "      <td>Private garage</td>\n",
       "      <td>0</td>\n",
       "    </tr>\n",
       "    <tr>\n",
       "      <th>4</th>\n",
       "      <td>0.500</td>\n",
       "      <td>224</td>\n",
       "      <td>2004-01-01</td>\n",
       "      <td>2004-07-01</td>\n",
       "      <td>3</td>\n",
       "      <td>Male</td>\n",
       "      <td>Other</td>\n",
       "      <td>CSP47</td>\n",
       "      <td>Professional</td>\n",
       "      <td>53</td>\n",
       "      <td>0</td>\n",
       "      <td>72</td>\n",
       "      <td>van</td>\n",
       "      <td>L</td>\n",
       "      <td>direct injection overpowered</td>\n",
       "      <td>diesel</td>\n",
       "      <td>140-150 km/h</td>\n",
       "      <td>0</td>\n",
       "      <td>1418.610272</td>\n",
       "      <td>19.0</td>\n",
       "      <td>None</td>\n",
       "      <td>1</td>\n",
       "    </tr>\n",
       "  </tbody>\n",
       "</table>\n",
       "</div>"
      ],
      "text/plain": [
       "   Exposure  LicAge   RecordBeg   RecordEnd VehAge  Gender MariStat  \\\n",
       "0     0.583     366  2004-06-01         NaN      2  Female    Other   \n",
       "1     0.200     187  2004-10-19         NaN      0    Male    Alone   \n",
       "2     0.083     169  2004-07-16  2004-08-16      1  Female    Other   \n",
       "3     0.375     170  2004-08-16         NaN      1  Female    Other   \n",
       "4     0.500     224  2004-01-01  2004-07-01      3    Male    Other   \n",
       "\n",
       "  SocioCateg                VehUsage  DrivAge  HasKmLimit  BonusMalus  \\\n",
       "0       CSP1            Professional       55           0          72   \n",
       "1      CSP55  Private+trip to office       34           0          80   \n",
       "2       CSP1            Professional       33           0          63   \n",
       "3       CSP1            Professional       34           0          63   \n",
       "4      CSP47            Professional       53           0          72   \n",
       "\n",
       "          VehBody VehPrice                     VehEngine VehEnergy  \\\n",
       "0           sedan       D                      injection   regular   \n",
       "1        microvan       K   direct injection overpowered    diesel   \n",
       "2  other microvan       L   direct injection overpowered    diesel   \n",
       "3  other microvan       L   direct injection overpowered    diesel   \n",
       "4             van       L   direct injection overpowered    diesel   \n",
       "\n",
       "    VehMaxSpeed VehClass  ClaimAmount  RiskVar          Garage  ClaimInd  \n",
       "0  160-170 km/h        B     0.000000     15.0            None         0  \n",
       "1  170-180 km/h       M1     0.000000     20.0            None         0  \n",
       "2  170-180 km/h       M1     0.000000     17.0            None         0  \n",
       "3  170-180 km/h       M1     0.000000     17.0  Private garage         0  \n",
       "4  140-150 km/h        0  1418.610272     19.0            None         1  "
      ]
     },
     "execution_count": 4,
     "metadata": {},
     "output_type": "execute_result"
    }
   ],
   "source": [
    "df_1 = df.copy()\n",
    "df.head()"
   ]
  },
  {
   "cell_type": "markdown",
   "metadata": {
    "colab_type": "text",
    "id": "r9dMlMh5QcXt"
   },
   "source": [
    "Предобработайте данные"
   ]
  },
  {
   "cell_type": "code",
   "execution_count": 5,
   "metadata": {
    "colab": {
     "base_uri": "https://localhost:8080/",
     "height": 215
    },
    "colab_type": "code",
    "id": "WdtY7qDp8veM",
    "outputId": "b3a75b5f-28ff-4f65-e828-c52bb6d407fe"
   },
   "outputs": [
    {
     "name": "stdout",
     "output_type": "stream",
     "text": [
      "Unique values of ClaimInd: [0]\n"
     ]
    },
    {
     "data": {
      "text/html": [
       "<div>\n",
       "<style scoped>\n",
       "    .dataframe tbody tr th:only-of-type {\n",
       "        vertical-align: middle;\n",
       "    }\n",
       "\n",
       "    .dataframe tbody tr th {\n",
       "        vertical-align: top;\n",
       "    }\n",
       "\n",
       "    .dataframe thead th {\n",
       "        text-align: right;\n",
       "    }\n",
       "</style>\n",
       "<table border=\"1\" class=\"dataframe\">\n",
       "  <thead>\n",
       "    <tr style=\"text-align: right;\">\n",
       "      <th></th>\n",
       "      <th>ClaimAmount</th>\n",
       "      <th>ClaimInd</th>\n",
       "    </tr>\n",
       "  </thead>\n",
       "  <tbody>\n",
       "    <tr>\n",
       "      <th>231</th>\n",
       "      <td>-200.867674</td>\n",
       "      <td>0</td>\n",
       "    </tr>\n",
       "    <tr>\n",
       "      <th>404</th>\n",
       "      <td>-381.646224</td>\n",
       "      <td>0</td>\n",
       "    </tr>\n",
       "    <tr>\n",
       "      <th>568</th>\n",
       "      <td>-289.837160</td>\n",
       "      <td>0</td>\n",
       "    </tr>\n",
       "    <tr>\n",
       "      <th>794</th>\n",
       "      <td>-528.762236</td>\n",
       "      <td>0</td>\n",
       "    </tr>\n",
       "    <tr>\n",
       "      <th>822</th>\n",
       "      <td>-27.029003</td>\n",
       "      <td>0</td>\n",
       "    </tr>\n",
       "  </tbody>\n",
       "</table>\n",
       "</div>"
      ],
      "text/plain": [
       "     ClaimAmount  ClaimInd\n",
       "231  -200.867674         0\n",
       "404  -381.646224         0\n",
       "568  -289.837160         0\n",
       "794  -528.762236         0\n",
       "822   -27.029003         0"
      ]
     },
     "execution_count": 5,
     "metadata": {},
     "output_type": "execute_result"
    }
   ],
   "source": [
    "NegClaimAmount = df.loc[df.ClaimAmount < 0, ['ClaimAmount','ClaimInd']]\n",
    "print('Unique values of ClaimInd:', NegClaimAmount.ClaimInd.unique())\n",
    "NegClaimAmount.head()"
   ]
  },
  {
   "cell_type": "code",
   "execution_count": 6,
   "metadata": {
    "colab": {},
    "colab_type": "code",
    "id": "pvMwhrsQ4wvt"
   },
   "outputs": [],
   "source": [
    "df.loc[df.ClaimAmount < 0, 'ClaimAmount'] = 0"
   ]
  },
  {
   "cell_type": "code",
   "execution_count": 7,
   "metadata": {
    "colab": {
     "base_uri": "https://localhost:8080/",
     "height": 34
    },
    "colab_type": "code",
    "id": "ypPtqSAY45Gz",
    "outputId": "eda497a4-0c0f-4e79-8c08-2c91d9406548"
   },
   "outputs": [
    {
     "name": "stdout",
     "output_type": "stream",
     "text": [
      "{0: 'Female', 1: 'Male'}\n"
     ]
    }
   ],
   "source": [
    "df.Gender, GenderRef = SeriesFactorizer(df.Gender)"
   ]
  },
  {
   "cell_type": "code",
   "execution_count": 8,
   "metadata": {
    "colab": {
     "base_uri": "https://localhost:8080/",
     "height": 34
    },
    "colab_type": "code",
    "id": "XlK_pnJW45En",
    "outputId": "1f3e72c5-1f34-4184-cbfc-6758441e6e7c"
   },
   "outputs": [
    {
     "name": "stdout",
     "output_type": "stream",
     "text": [
      "{0: 'Other', 1: 'Alone'}\n"
     ]
    }
   ],
   "source": [
    "df.MariStat, MariStatRef = SeriesFactorizer(df.MariStat)"
   ]
  },
  {
   "cell_type": "code",
   "execution_count": 9,
   "metadata": {
    "colab": {
     "base_uri": "https://localhost:8080/",
     "height": 34
    },
    "colab_type": "code",
    "id": "3zrTLYlx45CS",
    "outputId": "68660a6e-6b10-4af1-c8dd-103b5c1602c4"
   },
   "outputs": [
    {
     "data": {
      "text/plain": [
       "['Professional', 'Private+trip to office', 'Private', 'Professional run']"
      ]
     },
     "execution_count": 9,
     "metadata": {},
     "output_type": "execute_result"
    }
   ],
   "source": [
    "list(df.VehUsage.unique())"
   ]
  },
  {
   "cell_type": "code",
   "execution_count": 10,
   "metadata": {
    "colab": {
     "base_uri": "https://localhost:8080/",
     "height": 197
    },
    "colab_type": "code",
    "id": "ueZaSHXu44-z",
    "outputId": "ac98c325-9076-4636-a90e-b5a932535219"
   },
   "outputs": [
    {
     "data": {
      "text/html": [
       "<div>\n",
       "<style scoped>\n",
       "    .dataframe tbody tr th:only-of-type {\n",
       "        vertical-align: middle;\n",
       "    }\n",
       "\n",
       "    .dataframe tbody tr th {\n",
       "        vertical-align: top;\n",
       "    }\n",
       "\n",
       "    .dataframe thead th {\n",
       "        text-align: right;\n",
       "    }\n",
       "</style>\n",
       "<table border=\"1\" class=\"dataframe\">\n",
       "  <thead>\n",
       "    <tr style=\"text-align: right;\">\n",
       "      <th></th>\n",
       "      <th>VehUsg_Private</th>\n",
       "      <th>VehUsg_Private+trip to office</th>\n",
       "      <th>VehUsg_Professional</th>\n",
       "      <th>VehUsg_Professional run</th>\n",
       "    </tr>\n",
       "  </thead>\n",
       "  <tbody>\n",
       "    <tr>\n",
       "      <th>0</th>\n",
       "      <td>0</td>\n",
       "      <td>0</td>\n",
       "      <td>1</td>\n",
       "      <td>0</td>\n",
       "    </tr>\n",
       "    <tr>\n",
       "      <th>1</th>\n",
       "      <td>0</td>\n",
       "      <td>1</td>\n",
       "      <td>0</td>\n",
       "      <td>0</td>\n",
       "    </tr>\n",
       "    <tr>\n",
       "      <th>2</th>\n",
       "      <td>0</td>\n",
       "      <td>0</td>\n",
       "      <td>1</td>\n",
       "      <td>0</td>\n",
       "    </tr>\n",
       "    <tr>\n",
       "      <th>3</th>\n",
       "      <td>0</td>\n",
       "      <td>0</td>\n",
       "      <td>1</td>\n",
       "      <td>0</td>\n",
       "    </tr>\n",
       "    <tr>\n",
       "      <th>4</th>\n",
       "      <td>0</td>\n",
       "      <td>0</td>\n",
       "      <td>1</td>\n",
       "      <td>0</td>\n",
       "    </tr>\n",
       "  </tbody>\n",
       "</table>\n",
       "</div>"
      ],
      "text/plain": [
       "   VehUsg_Private  VehUsg_Private+trip to office  VehUsg_Professional  \\\n",
       "0               0                              0                    1   \n",
       "1               0                              1                    0   \n",
       "2               0                              0                    1   \n",
       "3               0                              0                    1   \n",
       "4               0                              0                    1   \n",
       "\n",
       "   VehUsg_Professional run  \n",
       "0                        0  \n",
       "1                        0  \n",
       "2                        0  \n",
       "3                        0  \n",
       "4                        0  "
      ]
     },
     "execution_count": 10,
     "metadata": {},
     "output_type": "execute_result"
    }
   ],
   "source": [
    "\n",
    "VU_dummies = pd.get_dummies(df.VehUsage, prefix='VehUsg', drop_first=False)\n",
    "VU_dummies.head()"
   ]
  },
  {
   "cell_type": "code",
   "execution_count": 11,
   "metadata": {
    "colab": {
     "base_uri": "https://localhost:8080/",
     "height": 157
    },
    "colab_type": "code",
    "id": "hFty3SuN443e",
    "outputId": "40192084-f8c7-4315-aa14-ce86699195ba"
   },
   "outputs": [
    {
     "data": {
      "text/plain": [
       "array(['CSP1', 'CSP55', 'CSP47', 'CSP50', 'CSP60', 'CSP48', 'CSP46',\n",
       "       'CSP37', 'CSP26', 'CSP42', 'CSP66', 'CSP6', 'CSP49', 'CSP51',\n",
       "       'CSP22', 'CSP3', 'CSP7', 'CSP73', 'CSP74', 'CSP21', 'CSP16',\n",
       "       'CSP77', 'CSP40', 'CSP20', 'CSP57', 'CSP5', 'CSP62', 'CSP2',\n",
       "       'CSP19', 'CSP65', 'CSP70', 'CSP18', 'CSP38', 'CSP61', 'CSP56',\n",
       "       'CSP41', 'CSP91', 'CSP32', 'CSP35', 'CSP27', 'CSP59', 'CSP43',\n",
       "       'CSP33', 'CSP9', 'CSP39', 'CSP28', 'CSP36', 'CSP23', 'CSP25',\n",
       "       'CSP30', 'CSP31', 'CSP63'], dtype=object)"
      ]
     },
     "execution_count": 11,
     "metadata": {},
     "output_type": "execute_result"
    }
   ],
   "source": [
    "df['SocioCateg'].unique()"
   ]
  },
  {
   "cell_type": "code",
   "execution_count": 12,
   "metadata": {
    "colab": {},
    "colab_type": "code",
    "id": "yGJ9TiCY44zs"
   },
   "outputs": [],
   "source": [
    "df['SocioCateg'] = df.SocioCateg.str.slice(0,4)"
   ]
  },
  {
   "cell_type": "code",
   "execution_count": 13,
   "metadata": {
    "colab": {
     "base_uri": "https://localhost:8080/",
     "height": 287
    },
    "colab_type": "code",
    "id": "wQet6Axb44r4",
    "outputId": "3bdcc608-9c8d-4f1f-fe04-1cf920bc2cce"
   },
   "outputs": [
    {
     "data": {
      "text/html": [
       "<div>\n",
       "<style scoped>\n",
       "    .dataframe tbody tr th:only-of-type {\n",
       "        vertical-align: middle;\n",
       "    }\n",
       "\n",
       "    .dataframe tbody tr th {\n",
       "        vertical-align: top;\n",
       "    }\n",
       "\n",
       "    .dataframe thead th {\n",
       "        text-align: right;\n",
       "    }\n",
       "</style>\n",
       "<table border=\"1\" class=\"dataframe\">\n",
       "  <thead>\n",
       "    <tr style=\"text-align: right;\">\n",
       "      <th></th>\n",
       "      <th>Frequency</th>\n",
       "    </tr>\n",
       "  </thead>\n",
       "  <tbody>\n",
       "    <tr>\n",
       "      <th>CSP9</th>\n",
       "      <td>10</td>\n",
       "    </tr>\n",
       "    <tr>\n",
       "      <th>CSP7</th>\n",
       "      <td>55</td>\n",
       "    </tr>\n",
       "    <tr>\n",
       "      <th>CSP3</th>\n",
       "      <td>837</td>\n",
       "    </tr>\n",
       "    <tr>\n",
       "      <th>CSP2</th>\n",
       "      <td>1476</td>\n",
       "    </tr>\n",
       "    <tr>\n",
       "      <th>CSP1</th>\n",
       "      <td>1975</td>\n",
       "    </tr>\n",
       "    <tr>\n",
       "      <th>CSP4</th>\n",
       "      <td>3279</td>\n",
       "    </tr>\n",
       "    <tr>\n",
       "      <th>CSP6</th>\n",
       "      <td>4885</td>\n",
       "    </tr>\n",
       "    <tr>\n",
       "      <th>CSP5</th>\n",
       "      <td>28215</td>\n",
       "    </tr>\n",
       "  </tbody>\n",
       "</table>\n",
       "</div>"
      ],
      "text/plain": [
       "      Frequency\n",
       "CSP9         10\n",
       "CSP7         55\n",
       "CSP3        837\n",
       "CSP2       1476\n",
       "CSP1       1975\n",
       "CSP4       3279\n",
       "CSP6       4885\n",
       "CSP5      28215"
      ]
     },
     "execution_count": 13,
     "metadata": {},
     "output_type": "execute_result"
    }
   ],
   "source": [
    "pd.DataFrame(df.SocioCateg.value_counts().sort_values()).rename({'SocioCateg': 'Frequency'}, axis=1)"
   ]
  },
  {
   "cell_type": "code",
   "execution_count": 14,
   "metadata": {
    "colab": {},
    "colab_type": "code",
    "id": "Rk8Buvri5iRd"
   },
   "outputs": [],
   "source": [
    "df = pd.get_dummies(df, columns=['VehUsage','SocioCateg'])"
   ]
  },
  {
   "cell_type": "code",
   "execution_count": 15,
   "metadata": {
    "colab": {},
    "colab_type": "code",
    "id": "dcMSfQe-5iON"
   },
   "outputs": [],
   "source": [
    "df = df.select_dtypes(exclude=['object'])"
   ]
  },
  {
   "cell_type": "code",
   "execution_count": 16,
   "metadata": {
    "colab": {
     "base_uri": "https://localhost:8080/",
     "height": 234
    },
    "colab_type": "code",
    "id": "MdW-OCgP5iMH",
    "outputId": "9be1689e-ebc0-40a1-b7aa-55c5130c64c2"
   },
   "outputs": [
    {
     "data": {
      "text/html": [
       "<div>\n",
       "<style scoped>\n",
       "    .dataframe tbody tr th:only-of-type {\n",
       "        vertical-align: middle;\n",
       "    }\n",
       "\n",
       "    .dataframe tbody tr th {\n",
       "        vertical-align: top;\n",
       "    }\n",
       "\n",
       "    .dataframe thead th {\n",
       "        text-align: right;\n",
       "    }\n",
       "</style>\n",
       "<table border=\"1\" class=\"dataframe\">\n",
       "  <thead>\n",
       "    <tr style=\"text-align: right;\">\n",
       "      <th></th>\n",
       "      <th>Exposure</th>\n",
       "      <th>LicAge</th>\n",
       "      <th>Gender</th>\n",
       "      <th>MariStat</th>\n",
       "      <th>DrivAge</th>\n",
       "      <th>HasKmLimit</th>\n",
       "      <th>BonusMalus</th>\n",
       "      <th>ClaimAmount</th>\n",
       "      <th>RiskVar</th>\n",
       "      <th>ClaimInd</th>\n",
       "      <th>VehUsage_Private</th>\n",
       "      <th>VehUsage_Private+trip to office</th>\n",
       "      <th>VehUsage_Professional</th>\n",
       "      <th>VehUsage_Professional run</th>\n",
       "      <th>SocioCateg_CSP1</th>\n",
       "      <th>SocioCateg_CSP2</th>\n",
       "      <th>SocioCateg_CSP3</th>\n",
       "      <th>SocioCateg_CSP4</th>\n",
       "      <th>SocioCateg_CSP5</th>\n",
       "      <th>SocioCateg_CSP6</th>\n",
       "      <th>SocioCateg_CSP7</th>\n",
       "      <th>SocioCateg_CSP9</th>\n",
       "      <th>DrivAgeSq</th>\n",
       "    </tr>\n",
       "  </thead>\n",
       "  <tbody>\n",
       "    <tr>\n",
       "      <th>0</th>\n",
       "      <td>0.583</td>\n",
       "      <td>366</td>\n",
       "      <td>0</td>\n",
       "      <td>0</td>\n",
       "      <td>55</td>\n",
       "      <td>0</td>\n",
       "      <td>72</td>\n",
       "      <td>0.000000</td>\n",
       "      <td>15.0</td>\n",
       "      <td>0</td>\n",
       "      <td>0</td>\n",
       "      <td>0</td>\n",
       "      <td>1</td>\n",
       "      <td>0</td>\n",
       "      <td>1</td>\n",
       "      <td>0</td>\n",
       "      <td>0</td>\n",
       "      <td>0</td>\n",
       "      <td>0</td>\n",
       "      <td>0</td>\n",
       "      <td>0</td>\n",
       "      <td>0</td>\n",
       "      <td>3025</td>\n",
       "    </tr>\n",
       "    <tr>\n",
       "      <th>1</th>\n",
       "      <td>0.200</td>\n",
       "      <td>187</td>\n",
       "      <td>1</td>\n",
       "      <td>1</td>\n",
       "      <td>34</td>\n",
       "      <td>0</td>\n",
       "      <td>80</td>\n",
       "      <td>0.000000</td>\n",
       "      <td>20.0</td>\n",
       "      <td>0</td>\n",
       "      <td>0</td>\n",
       "      <td>1</td>\n",
       "      <td>0</td>\n",
       "      <td>0</td>\n",
       "      <td>0</td>\n",
       "      <td>0</td>\n",
       "      <td>0</td>\n",
       "      <td>0</td>\n",
       "      <td>1</td>\n",
       "      <td>0</td>\n",
       "      <td>0</td>\n",
       "      <td>0</td>\n",
       "      <td>1156</td>\n",
       "    </tr>\n",
       "    <tr>\n",
       "      <th>2</th>\n",
       "      <td>0.083</td>\n",
       "      <td>169</td>\n",
       "      <td>0</td>\n",
       "      <td>0</td>\n",
       "      <td>33</td>\n",
       "      <td>0</td>\n",
       "      <td>63</td>\n",
       "      <td>0.000000</td>\n",
       "      <td>17.0</td>\n",
       "      <td>0</td>\n",
       "      <td>0</td>\n",
       "      <td>0</td>\n",
       "      <td>1</td>\n",
       "      <td>0</td>\n",
       "      <td>1</td>\n",
       "      <td>0</td>\n",
       "      <td>0</td>\n",
       "      <td>0</td>\n",
       "      <td>0</td>\n",
       "      <td>0</td>\n",
       "      <td>0</td>\n",
       "      <td>0</td>\n",
       "      <td>1089</td>\n",
       "    </tr>\n",
       "    <tr>\n",
       "      <th>3</th>\n",
       "      <td>0.375</td>\n",
       "      <td>170</td>\n",
       "      <td>0</td>\n",
       "      <td>0</td>\n",
       "      <td>34</td>\n",
       "      <td>0</td>\n",
       "      <td>63</td>\n",
       "      <td>0.000000</td>\n",
       "      <td>17.0</td>\n",
       "      <td>0</td>\n",
       "      <td>0</td>\n",
       "      <td>0</td>\n",
       "      <td>1</td>\n",
       "      <td>0</td>\n",
       "      <td>1</td>\n",
       "      <td>0</td>\n",
       "      <td>0</td>\n",
       "      <td>0</td>\n",
       "      <td>0</td>\n",
       "      <td>0</td>\n",
       "      <td>0</td>\n",
       "      <td>0</td>\n",
       "      <td>1156</td>\n",
       "    </tr>\n",
       "    <tr>\n",
       "      <th>4</th>\n",
       "      <td>0.500</td>\n",
       "      <td>224</td>\n",
       "      <td>1</td>\n",
       "      <td>0</td>\n",
       "      <td>53</td>\n",
       "      <td>0</td>\n",
       "      <td>72</td>\n",
       "      <td>1418.610272</td>\n",
       "      <td>19.0</td>\n",
       "      <td>1</td>\n",
       "      <td>0</td>\n",
       "      <td>0</td>\n",
       "      <td>1</td>\n",
       "      <td>0</td>\n",
       "      <td>0</td>\n",
       "      <td>0</td>\n",
       "      <td>0</td>\n",
       "      <td>1</td>\n",
       "      <td>0</td>\n",
       "      <td>0</td>\n",
       "      <td>0</td>\n",
       "      <td>0</td>\n",
       "      <td>2809</td>\n",
       "    </tr>\n",
       "  </tbody>\n",
       "</table>\n",
       "</div>"
      ],
      "text/plain": [
       "   Exposure  LicAge  Gender  MariStat  DrivAge  HasKmLimit  BonusMalus  \\\n",
       "0     0.583     366       0         0       55           0          72   \n",
       "1     0.200     187       1         1       34           0          80   \n",
       "2     0.083     169       0         0       33           0          63   \n",
       "3     0.375     170       0         0       34           0          63   \n",
       "4     0.500     224       1         0       53           0          72   \n",
       "\n",
       "   ClaimAmount  RiskVar  ClaimInd  VehUsage_Private  \\\n",
       "0     0.000000     15.0         0                 0   \n",
       "1     0.000000     20.0         0                 0   \n",
       "2     0.000000     17.0         0                 0   \n",
       "3     0.000000     17.0         0                 0   \n",
       "4  1418.610272     19.0         1                 0   \n",
       "\n",
       "   VehUsage_Private+trip to office  VehUsage_Professional  \\\n",
       "0                                0                      1   \n",
       "1                                1                      0   \n",
       "2                                0                      1   \n",
       "3                                0                      1   \n",
       "4                                0                      1   \n",
       "\n",
       "   VehUsage_Professional run  SocioCateg_CSP1  SocioCateg_CSP2  \\\n",
       "0                          0                1                0   \n",
       "1                          0                0                0   \n",
       "2                          0                1                0   \n",
       "3                          0                1                0   \n",
       "4                          0                0                0   \n",
       "\n",
       "   SocioCateg_CSP3  SocioCateg_CSP4  SocioCateg_CSP5  SocioCateg_CSP6  \\\n",
       "0                0                0                0                0   \n",
       "1                0                0                1                0   \n",
       "2                0                0                0                0   \n",
       "3                0                0                0                0   \n",
       "4                0                1                0                0   \n",
       "\n",
       "   SocioCateg_CSP7  SocioCateg_CSP9  DrivAgeSq  \n",
       "0                0                0       3025  \n",
       "1                0                0       1156  \n",
       "2                0                0       1089  \n",
       "3                0                0       1156  \n",
       "4                0                0       2809  "
      ]
     },
     "execution_count": 16,
     "metadata": {},
     "output_type": "execute_result"
    }
   ],
   "source": [
    "df['DrivAgeSq'] = df.DrivAge.apply(lambda x: x**2)\n",
    "df.head()"
   ]
  },
  {
   "cell_type": "code",
   "execution_count": 17,
   "metadata": {
    "colab": {
     "base_uri": "https://localhost:8080/",
     "height": 507
    },
    "colab_type": "code",
    "id": "S4g1U0-rdIZq",
    "outputId": "fa8a0d6b-88f7-4763-f430-c5c9c9bc863e"
   },
   "outputs": [
    {
     "name": "stdout",
     "output_type": "stream",
     "text": [
      "<class 'pandas.core.frame.DataFrame'>\n",
      "RangeIndex: 40732 entries, 0 to 40731\n",
      "Data columns (total 23 columns):\n",
      " #   Column                           Non-Null Count  Dtype  \n",
      "---  ------                           --------------  -----  \n",
      " 0   Exposure                         40732 non-null  float64\n",
      " 1   LicAge                           40732 non-null  int64  \n",
      " 2   Gender                           40732 non-null  int64  \n",
      " 3   MariStat                         40732 non-null  int64  \n",
      " 4   DrivAge                          40732 non-null  int64  \n",
      " 5   HasKmLimit                       40732 non-null  int64  \n",
      " 6   BonusMalus                       40732 non-null  int64  \n",
      " 7   ClaimAmount                      40732 non-null  float64\n",
      " 8   RiskVar                          40732 non-null  float64\n",
      " 9   ClaimInd                         40732 non-null  int64  \n",
      " 10  VehUsage_Private                 40732 non-null  uint8  \n",
      " 11  VehUsage_Private+trip to office  40732 non-null  uint8  \n",
      " 12  VehUsage_Professional            40732 non-null  uint8  \n",
      " 13  VehUsage_Professional run        40732 non-null  uint8  \n",
      " 14  SocioCateg_CSP1                  40732 non-null  uint8  \n",
      " 15  SocioCateg_CSP2                  40732 non-null  uint8  \n",
      " 16  SocioCateg_CSP3                  40732 non-null  uint8  \n",
      " 17  SocioCateg_CSP4                  40732 non-null  uint8  \n",
      " 18  SocioCateg_CSP5                  40732 non-null  uint8  \n",
      " 19  SocioCateg_CSP6                  40732 non-null  uint8  \n",
      " 20  SocioCateg_CSP7                  40732 non-null  uint8  \n",
      " 21  SocioCateg_CSP9                  40732 non-null  uint8  \n",
      " 22  DrivAgeSq                        40732 non-null  int64  \n",
      "dtypes: float64(3), int64(8), uint8(12)\n",
      "memory usage: 3.9 MB\n"
     ]
    }
   ],
   "source": [
    "df.info()"
   ]
  },
  {
   "cell_type": "markdown",
   "metadata": {
    "colab_type": "text",
    "id": "2m1bibe9nMKp"
   },
   "source": [
    "XGBoost для многоклассовой классификации принимает на вход значения меток классов в виде `[0, num_classes]`. Поэтому, вычтем из значений переменной `RiskVar` единицу."
   ]
  },
  {
   "cell_type": "code",
   "execution_count": 18,
   "metadata": {
    "colab": {
     "base_uri": "https://localhost:8080/",
     "height": 52
    },
    "colab_type": "code",
    "id": "6VLMcICSn3B7",
    "outputId": "34350f23-218d-4ecc-84a1-71cce8ba8934"
   },
   "outputs": [
    {
     "data": {
      "text/plain": [
       "array([14, 19, 16, 18,  9, 15,  0,  7, 17, 10, 13, 12, 11,  8,  5,  2,  6,\n",
       "        4,  3,  1])"
      ]
     },
     "execution_count": 18,
     "metadata": {},
     "output_type": "execute_result"
    }
   ],
   "source": [
    "df['RiskVar'] = (df['RiskVar'] - 1).astype(int)\n",
    "df['RiskVar'].unique()"
   ]
  },
  {
   "cell_type": "markdown",
   "metadata": {
    "colab_type": "text",
    "id": "Nqre5rvZxL-N"
   },
   "source": [
    "Данная переменная принимает значения от 1 до 20, которые, возможно, упорядочены. Посмотрим, сколько полисов соответствуют каждому из значений `RiskVar`, используя метод `groupby`. Для полученных значений также посчитаем нормированную частоту."
   ]
  },
  {
   "cell_type": "code",
   "execution_count": 19,
   "metadata": {
    "colab": {},
    "colab_type": "code",
    "id": "nHgg3kZJu8tX"
   },
   "outputs": [],
   "source": [
    "FreqCount = pd.DataFrame(df.groupby('RiskVar').size(), columns=['Count'])\n",
    "FreqCount['Freq'] = FreqCount['Count'] / FreqCount['Count'].sum()"
   ]
  },
  {
   "cell_type": "code",
   "execution_count": 20,
   "metadata": {
    "colab": {
     "base_uri": "https://localhost:8080/",
     "height": 282
    },
    "colab_type": "code",
    "id": "UifKccwQYWiT",
    "outputId": "145565fc-a69b-4ace-c0c6-6627498636c7"
   },
   "outputs": [
    {
     "data": {
      "image/png": "[encoded data removed]",
      "text/plain": [
       "<Figure size 432x288 with 1 Axes>"
      ]
     },
     "metadata": {
      "needs_background": "light"
     },
     "output_type": "display_data"
    }
   ],
   "source": [
    "FreqCount.Freq.plot(kind='bar')\n",
    "plt.ylabel('Frequency')\n",
    "plt.show()"
   ]
  },
  {
   "cell_type": "code",
   "execution_count": 21,
   "metadata": {
    "colab": {
     "base_uri": "https://localhost:8080/",
     "height": 677
    },
    "colab_type": "code",
    "id": "4Gy10AzjXsT9",
    "outputId": "3e490bb0-1874-4ad7-c66b-d82269778914"
   },
   "outputs": [
    {
     "data": {
      "text/html": [
       "<div>\n",
       "<style scoped>\n",
       "    .dataframe tbody tr th:only-of-type {\n",
       "        vertical-align: middle;\n",
       "    }\n",
       "\n",
       "    .dataframe tbody tr th {\n",
       "        vertical-align: top;\n",
       "    }\n",
       "\n",
       "    .dataframe thead th {\n",
       "        text-align: right;\n",
       "    }\n",
       "</style>\n",
       "<table border=\"1\" class=\"dataframe\">\n",
       "  <thead>\n",
       "    <tr style=\"text-align: right;\">\n",
       "      <th></th>\n",
       "      <th>Count</th>\n",
       "      <th>Freq</th>\n",
       "    </tr>\n",
       "    <tr>\n",
       "      <th>RiskVar</th>\n",
       "      <th></th>\n",
       "      <th></th>\n",
       "    </tr>\n",
       "  </thead>\n",
       "  <tbody>\n",
       "    <tr>\n",
       "      <th>0</th>\n",
       "      <td>531</td>\n",
       "      <td>0.013036</td>\n",
       "    </tr>\n",
       "    <tr>\n",
       "      <th>1</th>\n",
       "      <td>451</td>\n",
       "      <td>0.011072</td>\n",
       "    </tr>\n",
       "    <tr>\n",
       "      <th>2</th>\n",
       "      <td>660</td>\n",
       "      <td>0.016203</td>\n",
       "    </tr>\n",
       "    <tr>\n",
       "      <th>3</th>\n",
       "      <td>603</td>\n",
       "      <td>0.014804</td>\n",
       "    </tr>\n",
       "    <tr>\n",
       "      <th>4</th>\n",
       "      <td>979</td>\n",
       "      <td>0.024035</td>\n",
       "    </tr>\n",
       "    <tr>\n",
       "      <th>5</th>\n",
       "      <td>902</td>\n",
       "      <td>0.022145</td>\n",
       "    </tr>\n",
       "    <tr>\n",
       "      <th>6</th>\n",
       "      <td>1634</td>\n",
       "      <td>0.040116</td>\n",
       "    </tr>\n",
       "    <tr>\n",
       "      <th>7</th>\n",
       "      <td>1439</td>\n",
       "      <td>0.035328</td>\n",
       "    </tr>\n",
       "    <tr>\n",
       "      <th>8</th>\n",
       "      <td>1170</td>\n",
       "      <td>0.028724</td>\n",
       "    </tr>\n",
       "    <tr>\n",
       "      <th>9</th>\n",
       "      <td>1314</td>\n",
       "      <td>0.032260</td>\n",
       "    </tr>\n",
       "    <tr>\n",
       "      <th>10</th>\n",
       "      <td>2533</td>\n",
       "      <td>0.062187</td>\n",
       "    </tr>\n",
       "    <tr>\n",
       "      <th>11</th>\n",
       "      <td>2445</td>\n",
       "      <td>0.060027</td>\n",
       "    </tr>\n",
       "    <tr>\n",
       "      <th>12</th>\n",
       "      <td>2719</td>\n",
       "      <td>0.066753</td>\n",
       "    </tr>\n",
       "    <tr>\n",
       "      <th>13</th>\n",
       "      <td>2096</td>\n",
       "      <td>0.051458</td>\n",
       "    </tr>\n",
       "    <tr>\n",
       "      <th>14</th>\n",
       "      <td>4625</td>\n",
       "      <td>0.113547</td>\n",
       "    </tr>\n",
       "    <tr>\n",
       "      <th>15</th>\n",
       "      <td>4906</td>\n",
       "      <td>0.120446</td>\n",
       "    </tr>\n",
       "    <tr>\n",
       "      <th>16</th>\n",
       "      <td>3444</td>\n",
       "      <td>0.084553</td>\n",
       "    </tr>\n",
       "    <tr>\n",
       "      <th>17</th>\n",
       "      <td>2614</td>\n",
       "      <td>0.064176</td>\n",
       "    </tr>\n",
       "    <tr>\n",
       "      <th>18</th>\n",
       "      <td>2773</td>\n",
       "      <td>0.068079</td>\n",
       "    </tr>\n",
       "    <tr>\n",
       "      <th>19</th>\n",
       "      <td>2894</td>\n",
       "      <td>0.071050</td>\n",
       "    </tr>\n",
       "  </tbody>\n",
       "</table>\n",
       "</div>"
      ],
      "text/plain": [
       "         Count      Freq\n",
       "RiskVar                 \n",
       "0          531  0.013036\n",
       "1          451  0.011072\n",
       "2          660  0.016203\n",
       "3          603  0.014804\n",
       "4          979  0.024035\n",
       "5          902  0.022145\n",
       "6         1634  0.040116\n",
       "7         1439  0.035328\n",
       "8         1170  0.028724\n",
       "9         1314  0.032260\n",
       "10        2533  0.062187\n",
       "11        2445  0.060027\n",
       "12        2719  0.066753\n",
       "13        2096  0.051458\n",
       "14        4625  0.113547\n",
       "15        4906  0.120446\n",
       "16        3444  0.084553\n",
       "17        2614  0.064176\n",
       "18        2773  0.068079\n",
       "19        2894  0.071050"
      ]
     },
     "execution_count": 21,
     "metadata": {},
     "output_type": "execute_result"
    }
   ],
   "source": [
    "FreqCount"
   ]
  },
  {
   "cell_type": "markdown",
   "metadata": {
    "colab_type": "text",
    "id": "BzM1998TZDPm"
   },
   "source": [
    "Заметим, что в данном случае присутствует проблема несбалансированности классов. Поэтому, для того, чтобы по возможности избежать ее, воспользуемся взвешиванием наблюдений для обучения модели. Для этого в исходном наборе данных создадим столбец `weight`. Присвоим ему некоторые значения, например, можно задать `0.5` для значений `RiskVar` 14 и 15, а для остальных - 1 (Для этого можем использовать функцию `np.where` и метод `isin` для `pandas.Series`). Также можно попробовать какой-либо другой способ задания весов."
   ]
  },
  {
   "cell_type": "code",
   "execution_count": 22,
   "metadata": {
    "colab": {},
    "colab_type": "code",
    "id": "IxVL5fPu_hY6"
   },
   "outputs": [],
   "source": [
    "from sklearn.utils import class_weight"
   ]
  },
  {
   "cell_type": "code",
   "execution_count": 23,
   "metadata": {
    "colab": {},
    "colab_type": "code",
    "id": "8pO8GOTgByeG"
   },
   "outputs": [],
   "source": [
    "weights = class_weight.compute_class_weight('balanced',\n",
    "                                                 df.RiskVar.unique(),\n",
    "                                                 df.RiskVar)"
   ]
  },
  {
   "cell_type": "code",
   "execution_count": 24,
   "metadata": {
    "colab": {},
    "colab_type": "code",
    "id": "s9MiPFpeDmRn"
   },
   "outputs": [],
   "source": [
    "def make_weight (row):\n",
    "   return weights[int(row['RiskVar'])]"
   ]
  },
  {
   "cell_type": "code",
   "execution_count": 25,
   "metadata": {
    "colab": {},
    "colab_type": "code",
    "id": "dnL5LOi0i2oq"
   },
   "outputs": [],
   "source": [
    "df['weight'] = df.apply (lambda row: make_weight(row), axis=1)"
   ]
  },
  {
   "cell_type": "code",
   "execution_count": 26,
   "metadata": {
    "colab": {
     "base_uri": "https://localhost:8080/",
     "height": 234
    },
    "colab_type": "code",
    "id": "3N8oCCKTDa5k",
    "outputId": "ec9262a3-5f45-42d3-aeb4-cee0354f726d"
   },
   "outputs": [
    {
     "data": {
      "text/html": [
       "<div>\n",
       "<style scoped>\n",
       "    .dataframe tbody tr th:only-of-type {\n",
       "        vertical-align: middle;\n",
       "    }\n",
       "\n",
       "    .dataframe tbody tr th {\n",
       "        vertical-align: top;\n",
       "    }\n",
       "\n",
       "    .dataframe thead th {\n",
       "        text-align: right;\n",
       "    }\n",
       "</style>\n",
       "<table border=\"1\" class=\"dataframe\">\n",
       "  <thead>\n",
       "    <tr style=\"text-align: right;\">\n",
       "      <th></th>\n",
       "      <th>Exposure</th>\n",
       "      <th>LicAge</th>\n",
       "      <th>Gender</th>\n",
       "      <th>MariStat</th>\n",
       "      <th>DrivAge</th>\n",
       "      <th>HasKmLimit</th>\n",
       "      <th>BonusMalus</th>\n",
       "      <th>ClaimAmount</th>\n",
       "      <th>RiskVar</th>\n",
       "      <th>ClaimInd</th>\n",
       "      <th>VehUsage_Private</th>\n",
       "      <th>VehUsage_Private+trip to office</th>\n",
       "      <th>VehUsage_Professional</th>\n",
       "      <th>VehUsage_Professional run</th>\n",
       "      <th>SocioCateg_CSP1</th>\n",
       "      <th>SocioCateg_CSP2</th>\n",
       "      <th>SocioCateg_CSP3</th>\n",
       "      <th>SocioCateg_CSP4</th>\n",
       "      <th>SocioCateg_CSP5</th>\n",
       "      <th>SocioCateg_CSP6</th>\n",
       "      <th>SocioCateg_CSP7</th>\n",
       "      <th>SocioCateg_CSP9</th>\n",
       "      <th>DrivAgeSq</th>\n",
       "      <th>weight</th>\n",
       "    </tr>\n",
       "  </thead>\n",
       "  <tbody>\n",
       "    <tr>\n",
       "      <th>0</th>\n",
       "      <td>0.583</td>\n",
       "      <td>366</td>\n",
       "      <td>0</td>\n",
       "      <td>0</td>\n",
       "      <td>55</td>\n",
       "      <td>0</td>\n",
       "      <td>72</td>\n",
       "      <td>0.000000</td>\n",
       "      <td>14</td>\n",
       "      <td>0</td>\n",
       "      <td>0</td>\n",
       "      <td>0</td>\n",
       "      <td>1</td>\n",
       "      <td>0</td>\n",
       "      <td>1</td>\n",
       "      <td>0</td>\n",
       "      <td>0</td>\n",
       "      <td>0</td>\n",
       "      <td>0</td>\n",
       "      <td>0</td>\n",
       "      <td>0</td>\n",
       "      <td>0</td>\n",
       "      <td>3025</td>\n",
       "      <td>2.257871</td>\n",
       "    </tr>\n",
       "    <tr>\n",
       "      <th>1</th>\n",
       "      <td>0.200</td>\n",
       "      <td>187</td>\n",
       "      <td>1</td>\n",
       "      <td>1</td>\n",
       "      <td>34</td>\n",
       "      <td>0</td>\n",
       "      <td>80</td>\n",
       "      <td>0.000000</td>\n",
       "      <td>19</td>\n",
       "      <td>0</td>\n",
       "      <td>0</td>\n",
       "      <td>1</td>\n",
       "      <td>0</td>\n",
       "      <td>0</td>\n",
       "      <td>0</td>\n",
       "      <td>0</td>\n",
       "      <td>0</td>\n",
       "      <td>0</td>\n",
       "      <td>1</td>\n",
       "      <td>0</td>\n",
       "      <td>0</td>\n",
       "      <td>0</td>\n",
       "      <td>1156</td>\n",
       "      <td>4.515743</td>\n",
       "    </tr>\n",
       "    <tr>\n",
       "      <th>2</th>\n",
       "      <td>0.083</td>\n",
       "      <td>169</td>\n",
       "      <td>0</td>\n",
       "      <td>0</td>\n",
       "      <td>33</td>\n",
       "      <td>0</td>\n",
       "      <td>63</td>\n",
       "      <td>0.000000</td>\n",
       "      <td>16</td>\n",
       "      <td>0</td>\n",
       "      <td>0</td>\n",
       "      <td>0</td>\n",
       "      <td>1</td>\n",
       "      <td>0</td>\n",
       "      <td>1</td>\n",
       "      <td>0</td>\n",
       "      <td>0</td>\n",
       "      <td>0</td>\n",
       "      <td>0</td>\n",
       "      <td>0</td>\n",
       "      <td>0</td>\n",
       "      <td>0</td>\n",
       "      <td>1089</td>\n",
       "      <td>1.246389</td>\n",
       "    </tr>\n",
       "    <tr>\n",
       "      <th>3</th>\n",
       "      <td>0.375</td>\n",
       "      <td>170</td>\n",
       "      <td>0</td>\n",
       "      <td>0</td>\n",
       "      <td>34</td>\n",
       "      <td>0</td>\n",
       "      <td>63</td>\n",
       "      <td>0.000000</td>\n",
       "      <td>16</td>\n",
       "      <td>0</td>\n",
       "      <td>0</td>\n",
       "      <td>0</td>\n",
       "      <td>1</td>\n",
       "      <td>0</td>\n",
       "      <td>1</td>\n",
       "      <td>0</td>\n",
       "      <td>0</td>\n",
       "      <td>0</td>\n",
       "      <td>0</td>\n",
       "      <td>0</td>\n",
       "      <td>0</td>\n",
       "      <td>0</td>\n",
       "      <td>1156</td>\n",
       "      <td>1.246389</td>\n",
       "    </tr>\n",
       "    <tr>\n",
       "      <th>4</th>\n",
       "      <td>0.500</td>\n",
       "      <td>224</td>\n",
       "      <td>1</td>\n",
       "      <td>0</td>\n",
       "      <td>53</td>\n",
       "      <td>0</td>\n",
       "      <td>72</td>\n",
       "      <td>1418.610272</td>\n",
       "      <td>18</td>\n",
       "      <td>1</td>\n",
       "      <td>0</td>\n",
       "      <td>0</td>\n",
       "      <td>1</td>\n",
       "      <td>0</td>\n",
       "      <td>0</td>\n",
       "      <td>0</td>\n",
       "      <td>0</td>\n",
       "      <td>1</td>\n",
       "      <td>0</td>\n",
       "      <td>0</td>\n",
       "      <td>0</td>\n",
       "      <td>0</td>\n",
       "      <td>2809</td>\n",
       "      <td>3.377446</td>\n",
       "    </tr>\n",
       "  </tbody>\n",
       "</table>\n",
       "</div>"
      ],
      "text/plain": [
       "   Exposure  LicAge  Gender  MariStat  DrivAge  HasKmLimit  BonusMalus  \\\n",
       "0     0.583     366       0         0       55           0          72   \n",
       "1     0.200     187       1         1       34           0          80   \n",
       "2     0.083     169       0         0       33           0          63   \n",
       "3     0.375     170       0         0       34           0          63   \n",
       "4     0.500     224       1         0       53           0          72   \n",
       "\n",
       "   ClaimAmount  RiskVar  ClaimInd  VehUsage_Private  \\\n",
       "0     0.000000       14         0                 0   \n",
       "1     0.000000       19         0                 0   \n",
       "2     0.000000       16         0                 0   \n",
       "3     0.000000       16         0                 0   \n",
       "4  1418.610272       18         1                 0   \n",
       "\n",
       "   VehUsage_Private+trip to office  VehUsage_Professional  \\\n",
       "0                                0                      1   \n",
       "1                                1                      0   \n",
       "2                                0                      1   \n",
       "3                                0                      1   \n",
       "4                                0                      1   \n",
       "\n",
       "   VehUsage_Professional run  SocioCateg_CSP1  SocioCateg_CSP2  \\\n",
       "0                          0                1                0   \n",
       "1                          0                0                0   \n",
       "2                          0                1                0   \n",
       "3                          0                1                0   \n",
       "4                          0                0                0   \n",
       "\n",
       "   SocioCateg_CSP3  SocioCateg_CSP4  SocioCateg_CSP5  SocioCateg_CSP6  \\\n",
       "0                0                0                0                0   \n",
       "1                0                0                1                0   \n",
       "2                0                0                0                0   \n",
       "3                0                0                0                0   \n",
       "4                0                1                0                0   \n",
       "\n",
       "   SocioCateg_CSP7  SocioCateg_CSP9  DrivAgeSq    weight  \n",
       "0                0                0       3025  2.257871  \n",
       "1                0                0       1156  4.515743  \n",
       "2                0                0       1089  1.246389  \n",
       "3                0                0       1156  1.246389  \n",
       "4                0                0       2809  3.377446  "
      ]
     },
     "execution_count": 26,
     "metadata": {},
     "output_type": "execute_result"
    }
   ],
   "source": [
    "df.head()"
   ]
  },
  {
   "cell_type": "markdown",
   "metadata": {
    "colab_type": "text",
    "id": "sAlGTL0hBpNv"
   },
   "source": [
    "Разобьем имеющийся набор данных на обучающую, валидационную и тестовую выборки в отношениях 70%/15%/15% соответственно. Зададим зерно для случайного разбиения равным 10."
   ]
  },
  {
   "cell_type": "code",
   "execution_count": 27,
   "metadata": {
    "colab": {},
    "colab_type": "code",
    "id": "0u45ocam8HCn"
   },
   "outputs": [],
   "source": [
    "x_train, x_test, y_train, y_test = train_test_split(df.drop(['RiskVar'], axis=1), df.RiskVar, test_size=0.3, random_state=10)\n",
    "x_valid, x_test, y_valid, y_test = train_test_split(x_test, y_test, test_size=0.5, random_state=10)\n"
   ]
  },
  {
   "cell_type": "markdown",
   "metadata": {
    "colab_type": "text",
    "id": "PCySK2zQKsUI"
   },
   "source": [
    "Далее, создадим объекты `DMatrix` для обучающей, валидационной и тестовой выборок. Для обучающей выборки также укажем параметр `weight` равным полученному ранее столбцу весов. Данный столбец также нужно исключить из объекта передаваемого в параметр `data`."
   ]
  },
  {
   "cell_type": "code",
   "execution_count": 28,
   "metadata": {
    "colab": {
     "base_uri": "https://localhost:8080/",
     "height": 52
    },
    "colab_type": "code",
    "id": "_67FrNffDNu-",
    "outputId": "3992775d-79bd-41f8-fc8a-fab59845671d"
   },
   "outputs": [],
   "source": [
    "xgb_train = xgb.DMatrix(x_train.drop(['Exposure'], axis=1), (y_train))\n",
    "xgb_valid = xgb.DMatrix(x_valid.drop(['Exposure'], axis=1), (y_valid))\n",
    "xgb_test = xgb.DMatrix(x_test.drop(['Exposure'], axis=1), (y_test))"
   ]
  },
  {
   "cell_type": "markdown",
   "metadata": {
    "colab_type": "text",
    "id": "_3bTqctcR84Z"
   },
   "source": [
    "Далее обучим нашу модель с оптимальными параметрами"
   ]
  },
  {
   "cell_type": "code",
   "execution_count": 29,
   "metadata": {
    "colab": {},
    "colab_type": "code",
    "id": "o82HnqLJCXaI"
   },
   "outputs": [],
   "source": [
    "params = {'alpha': 0.9421394125156006,\n",
    " 'eta': 0.25676315790889986,\n",
    " 'lambda': 0.5666526532577569,\n",
    " 'max_depth': 5,\n",
    " 'min_child_weight': 49.383294309320455,\n",
    " 'num_boost_round': 475.0,\n",
    " 'objective': 'multi:softmax',\n",
    " 'num_class': 20}"
   ]
  },
  {
   "cell_type": "code",
   "execution_count": 30,
   "metadata": {
    "colab": {},
    "colab_type": "code",
    "id": "I-m6Ihq6hNJF"
   },
   "outputs": [],
   "source": [
    "progress = dict()\n",
    "xgb_model = xgb.train(params = params, dtrain=xgb_train, maximize=False, evals=[(xgb_train, \"train\"),(xgb_valid, \"valid\"), (xgb_test, \"test\")], early_stopping_rounds=10, evals_result=progress, verbose_eval=False)"
   ]
  },
  {
   "cell_type": "code",
   "execution_count": 31,
   "metadata": {
    "colab": {
     "base_uri": "https://localhost:8080/",
     "height": 34
    },
    "colab_type": "code",
    "id": "IfY1D-D8MjDp",
    "outputId": "28abb10b-9a38-410e-8c3e-8737a62fda78"
   },
   "outputs": [
    {
     "data": {
      "text/plain": [
       "array([15.,  8., 16., ..., 14., 15., 18.], dtype=float32)"
      ]
     },
     "execution_count": 31,
     "metadata": {},
     "output_type": "execute_result"
    }
   ],
   "source": [
    "xgb_model.predict(xgb_test)"
   ]
  },
  {
   "cell_type": "markdown",
   "metadata": {
    "colab_type": "text",
    "id": "x9151AtiSRtD"
   },
   "source": [
    "Посчитаем метрики accuracy и f1 на наших наборах данных, также можем визуализировать confusion matrix, например, с помощью `plt.imshow()`. Можно использовать предложенный ниже код."
   ]
  },
  {
   "cell_type": "code",
   "execution_count": 32,
   "metadata": {
    "colab": {
     "base_uri": "https://localhost:8080/",
     "height": 69
    },
    "colab_type": "code",
    "id": "A6ByYuqwD27P",
    "outputId": "24b66a97-2f14-4621-fce1-0a6418d3b444"
   },
   "outputs": [
    {
     "name": "stdout",
     "output_type": "stream",
     "text": [
      "F1 Score on train: 1.0\n",
      "F1 Score on valid: 1.0\n",
      "F1 Score on test: 1.0\n"
     ]
    }
   ],
   "source": [
    "dfsets = [{'set': 'train', 'dmat': xgb_train, 'target': y_train},\n",
    "          {'set': 'valid', 'dmat': xgb_valid, 'target': y_valid},\n",
    "          {'set': 'test', 'dmat': xgb_test, 'target': y_test}]\n",
    "for dfset in dfsets:\n",
    "    class_preds = xgb_model.predict(dfset['dmat']) # Посчитаем предсказанные значения\n",
    "    print('F1 Score on ' + str(dfset['set'])+':', f1_score(dfset['target'].values, class_preds, average='micro')) # Посчитаем F1 Score"
   ]
  },
  {
   "cell_type": "code",
   "execution_count": 33,
   "metadata": {
    "colab": {
     "base_uri": "https://localhost:8080/",
     "height": 225
    },
    "colab_type": "code",
    "id": "36_p091I8Www",
    "outputId": "1883c69a-ab90-453e-c0ed-8df4301b2784"
   },
   "outputs": [
    {
     "data": {
      "image/png": "[encoded data removed]",
      "text/plain": [
       "<Figure size 1080x216 with 6 Axes>"
      ]
     },
     "metadata": {
      "needs_background": "light"
     },
     "output_type": "display_data"
    }
   ],
   "source": [
    "plt.subplots(1,3, figsize=(15,3))\n",
    "for i in range(len(dfsets)):\n",
    "    confmatrix = confusion_matrix(dfsets[i]['target'], xgb_model.predict(dfsets[i]['dmat']))\n",
    "    plt.subplot(1,3,i+1)\n",
    "    plt.imshow(confmatrix, cmap='Greys')\n",
    "    plt.colorbar()\n",
    "    plt.ylabel('True')\n",
    "    plt.xlabel('Predicted')\n",
    "plt.show()"
   ]
  },
  {
   "cell_type": "markdown",
   "metadata": {
    "colab_type": "text",
    "id": "X7rFhBo3Tepd"
   },
   "source": [
    "Похоже, модель хорошо справляется со своей задачей, теперь попробуем отправить её в production."
   ]
  },
  {
   "cell_type": "code",
   "execution_count": 34,
   "metadata": {
    "colab": {},
    "colab_type": "code",
    "id": "ZDWX_AOGUthH"
   },
   "outputs": [],
   "source": [
    "from flask_ngrok import run_with_ngrok\n",
    "from flask import Flask, request, jsonify"
   ]
  },
  {
   "cell_type": "code",
   "execution_count": 35,
   "metadata": {
    "colab": {
     "base_uri": "https://localhost:8080/",
     "height": 157
    },
    "colab_type": "code",
    "id": "h7ZB8OkmVhTy",
    "outputId": "b0d0d8af-d8eb-4b8d-ad7a-8d405a7dfcb4"
   },
   "outputs": [
    {
     "data": {
      "text/plain": [
       "Index(['Exposure', 'LicAge', 'Gender', 'MariStat', 'DrivAge', 'HasKmLimit',\n",
       "       'BonusMalus', 'ClaimAmount', 'RiskVar', 'ClaimInd', 'VehUsage_Private',\n",
       "       'VehUsage_Private+trip to office', 'VehUsage_Professional',\n",
       "       'VehUsage_Professional run', 'SocioCateg_CSP1', 'SocioCateg_CSP2',\n",
       "       'SocioCateg_CSP3', 'SocioCateg_CSP4', 'SocioCateg_CSP5',\n",
       "       'SocioCateg_CSP6', 'SocioCateg_CSP7', 'SocioCateg_CSP9', 'DrivAgeSq',\n",
       "       'weight'],\n",
       "      dtype='object')"
      ]
     },
     "execution_count": 35,
     "metadata": {},
     "output_type": "execute_result"
    }
   ],
   "source": [
    "df.columns"
   ]
  },
  {
   "cell_type": "code",
   "execution_count": null,
   "metadata": {
    "colab": {
     "base_uri": "https://localhost:8080/",
     "height": 297
    },
    "colab_type": "code",
    "id": "b3KE4BkrUysq",
    "outputId": "69296cdd-64fd-4479-81af-357a9a805cb0"
   },
   "outputs": [
    {
     "name": "stdout",
     "output_type": "stream",
     "text": [
      " * Serving Flask app \"__main__\" (lazy loading)\n",
      " * Environment: production\n",
      "   WARNING: This is a development server. Do not use it in a production deployment.\n",
      "   Use a production WSGI server instead.\n",
      " * Debug mode: off\n"
     ]
    },
    {
     "name": "stderr",
     "output_type": "stream",
     "text": [
      " * Running on http://127.0.0.1:5000/ (Press CTRL+C to quit)\n"
     ]
    },
    {
     "name": "stdout",
     "output_type": "stream",
     "text": [
      " * Running on http://b68e0206.ngrok.io\n",
      " * Traffic stats available on http://127.0.0.1:4040\n"
     ]
    },
    {
     "name": "stderr",
     "output_type": "stream",
     "text": [
      "127.0.0.1 - - [17/Feb/2020 14:14:18] \"\u001b[37mPOST /predict HTTP/1.1\u001b[0m\" 200 -\n"
     ]
    }
   ],
   "source": [
    "# Обработчики и запуск Flask\n",
    "\n",
    "app = Flask(__name__)\n",
    "run_with_ngrok(app)  # Start ngrok when app is run\n",
    "\n",
    "def map_for_dict_Gender(Gender):\n",
    "  dict_Gender = {'Male':0, 'Female':1}\n",
    "  res = dict_Gender.get(Gender)\n",
    "  return res\n",
    "\n",
    "def map_for_dict_MariStat(MariStat):\n",
    "  dict_MariStat = {'Other':0, 'Alone':1}\n",
    "  res = dict_MariStat.get(MariStat)\n",
    "  return res\n",
    "\n",
    "def f_VehUsage_Professional(VehUsage):\n",
    "  if VehUsage == 'Professional':\n",
    "    VehUsage_Professional = 1\n",
    "  else:\n",
    "    VehUsage_Professional = 0\n",
    "  return(VehUsage_Professional)\n",
    "\n",
    "def f_VehUsage_Private_trip_to_office(VehUsage):\n",
    "  if VehUsage == 'Private+trip to office':\n",
    "    VehUsage_Private_trip_to_office = 1\n",
    "  else:\n",
    "    VehUsage_Private_trip_to_office = 0\n",
    "  return(VehUsage_Private_trip_to_office)\n",
    "\n",
    "def f_VehUsage_Private(VehUsage):\n",
    "  if VehUsage == 'Private':\n",
    "    VehUsage_Private = 1\n",
    "  else:\n",
    "    VehUsage_Privatel = 0\n",
    "  return(VehUsage_Private)\n",
    "\n",
    "def f_VehUsage_Professional_run(VehUsage):\n",
    "  if VehUsage == 'Professional run':\n",
    "    VehUsage_Professional_run = 1\n",
    "  else:\n",
    "    VehUsage_Professional_run = 0\n",
    "  return(VehUsage_Professional_run)\n",
    "\n",
    "\n",
    "@app.route('/predict', methods=['GET', 'POST'])\n",
    "def predict3():\n",
    "\n",
    "    try:\n",
    "\n",
    "      json_input = request.json\n",
    "\n",
    "      ID = json_input[\"ID\"]\n",
    "      LicAge = json_input[\"LicAge\"]\n",
    "      Gender = map_for_dict_Gender(json_input[\"Gender\"])\n",
    "      MariStat = map_for_dict_MariStat(json_input[\"MariStat\"])\n",
    "      DrivAge = json_input[\"DrivAge\"]\n",
    "      HasKmLimit = json_input[\"HasKmLimit\"]\n",
    "      BonusMalus = json_input[\"BonusMalus\"]\n",
    "      VehUsg_Private = f_VehUsage_Private(json_input[\"VehUsage\"])\n",
    "      VehUsg_Private_trip_to_office = f_VehUsage_Private_trip_to_office(json_input[\"VehUsage\"])\n",
    "      VehUsg_Professional = f_VehUsage_Professional(json_input[\"VehUsage\"])\n",
    "      VehUsg_Professional_run = f_VehUsage_Professional_run(json_input[\"VehUsage\"])\n",
    "      DrivAgeSq = DrivAge ** 2\n",
    "\n",
    "      X = np.array([[\n",
    "            LicAge,\n",
    "            Gender,\n",
    "            MariStat,\n",
    "            DrivAge,\n",
    "            HasKmLimit,\n",
    "            BonusMalus,\n",
    "            VehUsg_Private,\n",
    "            VehUsg_Private_trip_to_office,\n",
    "            VehUsg_Professional,\n",
    "            VehUsg_Professional_run,\n",
    "            0,\n",
    "            0,\n",
    "            0,\n",
    "            0,\n",
    "            0,\n",
    "            0,\n",
    "            0,\n",
    "            0,\n",
    "            0,\n",
    "            DrivAgeSq,\n",
    "            0,\n",
    "            0,\n",
    "            0\n",
    "      ]])\n",
    "\n",
    "\n",
    "      columns = [\n",
    "      'LicAge',\n",
    "      'Gender',\n",
    "      'MariStat',\n",
    "      'DrivAge',\n",
    "      'HasKmLimit',\n",
    "      'BonusMalus',\n",
    "      'VehUsg_Private',\n",
    "      'VehUsg_Private+trip to office',\n",
    "      'VehUsg_Professional',\n",
    "      'VehUsg_Professional run',\n",
    "      'SocioCateg_CSP1',\n",
    "      'SocioCateg_CSP2',\n",
    "      'SocioCateg_CSP3',\n",
    "      'SocioCateg_CSP4',\n",
    "      'SocioCateg_CSP5',\n",
    "      'SocioCateg_CSP6',\n",
    "      'SocioCateg_CSP7',\n",
    "      'SocioCateg_CSP8',\n",
    "      'SocioCateg_CSP9',\n",
    "      'DrivAgeSq',\n",
    "      'weight',\n",
    "      'ClaimAmount',\n",
    "      'ClaimInd'\n",
    "      ]\n",
    "\n",
    "      print(X)\n",
    "\n",
    "      dtest = xgb.DMatrix(pd.DataFrame(X, columns=columns))\n",
    "      print(dtest)\n",
    "\n",
    "      res = xgbmodel.predict(dtest)\n",
    "\n",
    "      return jsonify({'prediction':res}) \n",
    "    \n",
    "    except:\n",
    "      \n",
    "      return \"Error\"\n",
    "\n",
    "\n",
    "\n",
    "if __name__ == '__main__':\n",
    "    app.run()"
   ]
  },
  {
   "cell_type": "code",
   "execution_count": null,
   "metadata": {},
   "outputs": [],
   "source": [
    "import pandas\n",
    "\n",
    "\n",
    "# Randomly sample 7 elements from your dataframe\n",
    "a = df_1.sample(n=1).to_json()\n",
    "print(a)"
   ]
  },
  {
   "cell_type": "code",
   "execution_count": null,
   "metadata": {},
   "outputs": [],
   "source": [
    "# Обработчики и запуск Flask\n",
    "\n",
    "app = Flask(__name__)\n",
    "run_with_ngrok(app)  # Start ngrok when app is run\n",
    "\n",
    "\n",
    "@app.route('/1', methods=['GET', 'POST'])\n",
    "def predict3():\n",
    "\n",
    "    try:\n",
    "\n",
    "      json_input = request.json\n",
    "\n",
    "      ID = json_input[\"ID\"]\n",
    "\n",
    "      return jsonify({'Reqwest':ID}) \n",
    "    \n",
    "    except:\n",
    "      \n",
    "      return \"Error\"\n",
    "\n",
    "\n",
    "\n",
    "if __name__ == '__main__':\n",
    "    app.run()"
   ]
  },
  {
   "cell_type": "code",
   "execution_count": null,
   "metadata": {},
   "outputs": [],
   "source": []
  }
 ],
 "metadata": {
  "colab": {
   "collapsed_sections": [
    "Xljx8j0-_jXR"
   ],
   "include_colab_link": true,
   "name": "65da18a7e5f98636e56be494e998fd8e.ipynb",
   "provenance": []
  },
  "kernelspec": {
   "display_name": "Python 3",
   "language": "python",
   "name": "python3"
  },
  "language_info": {
   "codemirror_mode": {
    "name": "ipython",
    "version": 3
   },
   "file_extension": ".py",
   "mimetype": "text/x-python",
   "name": "python",
   "nbconvert_exporter": "python",
   "pygments_lexer": "ipython3",
   "version": "3.7.6"
  }
 },
 "nbformat": 4,
 "nbformat_minor": 1
}
