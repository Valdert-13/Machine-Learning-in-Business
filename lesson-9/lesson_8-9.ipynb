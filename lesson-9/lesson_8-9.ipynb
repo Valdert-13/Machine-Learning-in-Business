{
 "cells": [
  {
   "cell_type": "markdown",
   "metadata": {},
   "source": [
    "В текущем домашнем задание предлагается построить модель многоклассовой классификации для показателя `RiskVar`. Воспользуемся другими частями датасета freMPL (1 и 2)."
   ]
  },
  {
   "cell_type": "code",
   "execution_count": 1,
   "metadata": {},
   "outputs": [],
   "source": [
    "import pandas as pd\n",
    "import numpy as np\n",
    "import xgboost as xgb\n",
    "import matplotlib.pyplot as plt\n",
    "from sklearn.model_selection import train_test_split\n",
    "from sklearn.metrics import f1_score, accuracy_score, confusion_matrix\n",
    "from hyperopt import hp, tpe, space_eval\n",
    "from hyperopt.fmin import fmin\n",
    "from sklearn.utils import class_weight\n",
    "\n",
    "pd.set_option('display.max_columns', None)\n",
    "\n",
    "def SeriesFactorizer(series):\n",
    "    series, unique = pd.factorize(series)\n",
    "    reference = {x: i for x, i in enumerate(unique)}\n",
    "    print(reference)\n",
    "    return series, reference"
   ]
  },
  {
   "cell_type": "code",
   "execution_count": 2,
   "metadata": {},
   "outputs": [],
   "source": [
    "df = pd.read_csv('data/freMPL-R.csv', low_memory=False)"
   ]
  },
  {
   "cell_type": "code",
   "execution_count": 3,
   "metadata": {},
   "outputs": [],
   "source": [
    "df = df.loc[df.Dataset.isin([1, 2])]\n",
    "df.drop('Dataset', axis=1, inplace=True)\n",
    "df.dropna(axis=1, how='all', inplace=True)\n",
    "df.drop_duplicates(inplace=True)\n",
    "df.reset_index(drop=True, inplace=True)"
   ]
  },
  {
   "cell_type": "code",
   "execution_count": 4,
   "metadata": {},
   "outputs": [
    {
     "data": {
      "text/html": [
       "<div>\n",
       "<style scoped>\n",
       "    .dataframe tbody tr th:only-of-type {\n",
       "        vertical-align: middle;\n",
       "    }\n",
       "\n",
       "    .dataframe tbody tr th {\n",
       "        vertical-align: top;\n",
       "    }\n",
       "\n",
       "    .dataframe thead th {\n",
       "        text-align: right;\n",
       "    }\n",
       "</style>\n",
       "<table border=\"1\" class=\"dataframe\">\n",
       "  <thead>\n",
       "    <tr style=\"text-align: right;\">\n",
       "      <th></th>\n",
       "      <th>Exposure</th>\n",
       "      <th>LicAge</th>\n",
       "      <th>RecordBeg</th>\n",
       "      <th>RecordEnd</th>\n",
       "      <th>VehAge</th>\n",
       "      <th>Gender</th>\n",
       "      <th>MariStat</th>\n",
       "      <th>SocioCateg</th>\n",
       "      <th>VehUsage</th>\n",
       "      <th>DrivAge</th>\n",
       "      <th>HasKmLimit</th>\n",
       "      <th>BonusMalus</th>\n",
       "      <th>VehBody</th>\n",
       "      <th>VehPrice</th>\n",
       "      <th>VehEngine</th>\n",
       "      <th>VehEnergy</th>\n",
       "      <th>VehMaxSpeed</th>\n",
       "      <th>VehClass</th>\n",
       "      <th>ClaimAmount</th>\n",
       "      <th>RiskVar</th>\n",
       "      <th>Garage</th>\n",
       "      <th>ClaimInd</th>\n",
       "    </tr>\n",
       "  </thead>\n",
       "  <tbody>\n",
       "    <tr>\n",
       "      <th>0</th>\n",
       "      <td>0.583</td>\n",
       "      <td>366</td>\n",
       "      <td>2004-06-01</td>\n",
       "      <td>NaN</td>\n",
       "      <td>2</td>\n",
       "      <td>Female</td>\n",
       "      <td>Other</td>\n",
       "      <td>CSP1</td>\n",
       "      <td>Professional</td>\n",
       "      <td>55</td>\n",
       "      <td>0</td>\n",
       "      <td>72</td>\n",
       "      <td>sedan</td>\n",
       "      <td>D</td>\n",
       "      <td>injection</td>\n",
       "      <td>regular</td>\n",
       "      <td>160-170 km/h</td>\n",
       "      <td>B</td>\n",
       "      <td>0.000000</td>\n",
       "      <td>15.0</td>\n",
       "      <td>None</td>\n",
       "      <td>0</td>\n",
       "    </tr>\n",
       "    <tr>\n",
       "      <th>1</th>\n",
       "      <td>0.200</td>\n",
       "      <td>187</td>\n",
       "      <td>2004-10-19</td>\n",
       "      <td>NaN</td>\n",
       "      <td>0</td>\n",
       "      <td>Male</td>\n",
       "      <td>Alone</td>\n",
       "      <td>CSP55</td>\n",
       "      <td>Private+trip to office</td>\n",
       "      <td>34</td>\n",
       "      <td>0</td>\n",
       "      <td>80</td>\n",
       "      <td>microvan</td>\n",
       "      <td>K</td>\n",
       "      <td>direct injection overpowered</td>\n",
       "      <td>diesel</td>\n",
       "      <td>170-180 km/h</td>\n",
       "      <td>M1</td>\n",
       "      <td>0.000000</td>\n",
       "      <td>20.0</td>\n",
       "      <td>None</td>\n",
       "      <td>0</td>\n",
       "    </tr>\n",
       "    <tr>\n",
       "      <th>2</th>\n",
       "      <td>0.083</td>\n",
       "      <td>169</td>\n",
       "      <td>2004-07-16</td>\n",
       "      <td>2004-08-16</td>\n",
       "      <td>1</td>\n",
       "      <td>Female</td>\n",
       "      <td>Other</td>\n",
       "      <td>CSP1</td>\n",
       "      <td>Professional</td>\n",
       "      <td>33</td>\n",
       "      <td>0</td>\n",
       "      <td>63</td>\n",
       "      <td>other microvan</td>\n",
       "      <td>L</td>\n",
       "      <td>direct injection overpowered</td>\n",
       "      <td>diesel</td>\n",
       "      <td>170-180 km/h</td>\n",
       "      <td>M1</td>\n",
       "      <td>0.000000</td>\n",
       "      <td>17.0</td>\n",
       "      <td>None</td>\n",
       "      <td>0</td>\n",
       "    </tr>\n",
       "    <tr>\n",
       "      <th>3</th>\n",
       "      <td>0.375</td>\n",
       "      <td>170</td>\n",
       "      <td>2004-08-16</td>\n",
       "      <td>NaN</td>\n",
       "      <td>1</td>\n",
       "      <td>Female</td>\n",
       "      <td>Other</td>\n",
       "      <td>CSP1</td>\n",
       "      <td>Professional</td>\n",
       "      <td>34</td>\n",
       "      <td>0</td>\n",
       "      <td>63</td>\n",
       "      <td>other microvan</td>\n",
       "      <td>L</td>\n",
       "      <td>direct injection overpowered</td>\n",
       "      <td>diesel</td>\n",
       "      <td>170-180 km/h</td>\n",
       "      <td>M1</td>\n",
       "      <td>0.000000</td>\n",
       "      <td>17.0</td>\n",
       "      <td>Private garage</td>\n",
       "      <td>0</td>\n",
       "    </tr>\n",
       "    <tr>\n",
       "      <th>4</th>\n",
       "      <td>0.500</td>\n",
       "      <td>224</td>\n",
       "      <td>2004-01-01</td>\n",
       "      <td>2004-07-01</td>\n",
       "      <td>3</td>\n",
       "      <td>Male</td>\n",
       "      <td>Other</td>\n",
       "      <td>CSP47</td>\n",
       "      <td>Professional</td>\n",
       "      <td>53</td>\n",
       "      <td>0</td>\n",
       "      <td>72</td>\n",
       "      <td>van</td>\n",
       "      <td>L</td>\n",
       "      <td>direct injection overpowered</td>\n",
       "      <td>diesel</td>\n",
       "      <td>140-150 km/h</td>\n",
       "      <td>0</td>\n",
       "      <td>1418.610272</td>\n",
       "      <td>19.0</td>\n",
       "      <td>None</td>\n",
       "      <td>1</td>\n",
       "    </tr>\n",
       "  </tbody>\n",
       "</table>\n",
       "</div>"
      ],
      "text/plain": [
       "   Exposure  LicAge   RecordBeg   RecordEnd VehAge  Gender MariStat  \\\n",
       "0     0.583     366  2004-06-01         NaN      2  Female    Other   \n",
       "1     0.200     187  2004-10-19         NaN      0    Male    Alone   \n",
       "2     0.083     169  2004-07-16  2004-08-16      1  Female    Other   \n",
       "3     0.375     170  2004-08-16         NaN      1  Female    Other   \n",
       "4     0.500     224  2004-01-01  2004-07-01      3    Male    Other   \n",
       "\n",
       "  SocioCateg                VehUsage  DrivAge  HasKmLimit  BonusMalus  \\\n",
       "0       CSP1            Professional       55           0          72   \n",
       "1      CSP55  Private+trip to office       34           0          80   \n",
       "2       CSP1            Professional       33           0          63   \n",
       "3       CSP1            Professional       34           0          63   \n",
       "4      CSP47            Professional       53           0          72   \n",
       "\n",
       "          VehBody VehPrice                     VehEngine VehEnergy  \\\n",
       "0           sedan       D                      injection   regular   \n",
       "1        microvan       K   direct injection overpowered    diesel   \n",
       "2  other microvan       L   direct injection overpowered    diesel   \n",
       "3  other microvan       L   direct injection overpowered    diesel   \n",
       "4             van       L   direct injection overpowered    diesel   \n",
       "\n",
       "    VehMaxSpeed VehClass  ClaimAmount  RiskVar          Garage  ClaimInd  \n",
       "0  160-170 km/h        B     0.000000     15.0            None         0  \n",
       "1  170-180 km/h       M1     0.000000     20.0            None         0  \n",
       "2  170-180 km/h       M1     0.000000     17.0            None         0  \n",
       "3  170-180 km/h       M1     0.000000     17.0  Private garage         0  \n",
       "4  140-150 km/h        0  1418.610272     19.0            None         1  "
      ]
     },
     "execution_count": 4,
     "metadata": {},
     "output_type": "execute_result"
    }
   ],
   "source": [
    "df_1 = df.copy()\n",
    "df.head()"
   ]
  },
  {
   "cell_type": "code",
   "execution_count": 5,
   "metadata": {},
   "outputs": [
    {
     "name": "stdout",
     "output_type": "stream",
     "text": [
      "{0: 'Female', 1: 'Male'}\n",
      "{0: 'Other', 1: 'Alone'}\n"
     ]
    }
   ],
   "source": [
    "df.loc[df.ClaimAmount < 0, 'ClaimAmount'] = 0\n",
    "df.Gender, GenderRef = SeriesFactorizer(df.Gender)\n",
    "df.MariStat, MariStatRef = SeriesFactorizer(df.MariStat)"
   ]
  },
  {
   "cell_type": "code",
   "execution_count": 6,
   "metadata": {},
   "outputs": [
    {
     "data": {
      "text/plain": [
       "['Professional', 'Private+trip to office', 'Private', 'Professional run']"
      ]
     },
     "execution_count": 6,
     "metadata": {},
     "output_type": "execute_result"
    }
   ],
   "source": [
    "list(df.VehUsage.unique())"
   ]
  },
  {
   "cell_type": "code",
   "execution_count": 7,
   "metadata": {},
   "outputs": [
    {
     "data": {
      "text/html": [
       "<div>\n",
       "<style scoped>\n",
       "    .dataframe tbody tr th:only-of-type {\n",
       "        vertical-align: middle;\n",
       "    }\n",
       "\n",
       "    .dataframe tbody tr th {\n",
       "        vertical-align: top;\n",
       "    }\n",
       "\n",
       "    .dataframe thead th {\n",
       "        text-align: right;\n",
       "    }\n",
       "</style>\n",
       "<table border=\"1\" class=\"dataframe\">\n",
       "  <thead>\n",
       "    <tr style=\"text-align: right;\">\n",
       "      <th></th>\n",
       "      <th>VehUsg_Private</th>\n",
       "      <th>VehUsg_Private+trip to office</th>\n",
       "      <th>VehUsg_Professional</th>\n",
       "      <th>VehUsg_Professional run</th>\n",
       "    </tr>\n",
       "  </thead>\n",
       "  <tbody>\n",
       "    <tr>\n",
       "      <th>0</th>\n",
       "      <td>0</td>\n",
       "      <td>0</td>\n",
       "      <td>1</td>\n",
       "      <td>0</td>\n",
       "    </tr>\n",
       "    <tr>\n",
       "      <th>1</th>\n",
       "      <td>0</td>\n",
       "      <td>1</td>\n",
       "      <td>0</td>\n",
       "      <td>0</td>\n",
       "    </tr>\n",
       "    <tr>\n",
       "      <th>2</th>\n",
       "      <td>0</td>\n",
       "      <td>0</td>\n",
       "      <td>1</td>\n",
       "      <td>0</td>\n",
       "    </tr>\n",
       "    <tr>\n",
       "      <th>3</th>\n",
       "      <td>0</td>\n",
       "      <td>0</td>\n",
       "      <td>1</td>\n",
       "      <td>0</td>\n",
       "    </tr>\n",
       "    <tr>\n",
       "      <th>4</th>\n",
       "      <td>0</td>\n",
       "      <td>0</td>\n",
       "      <td>1</td>\n",
       "      <td>0</td>\n",
       "    </tr>\n",
       "  </tbody>\n",
       "</table>\n",
       "</div>"
      ],
      "text/plain": [
       "   VehUsg_Private  VehUsg_Private+trip to office  VehUsg_Professional  \\\n",
       "0               0                              0                    1   \n",
       "1               0                              1                    0   \n",
       "2               0                              0                    1   \n",
       "3               0                              0                    1   \n",
       "4               0                              0                    1   \n",
       "\n",
       "   VehUsg_Professional run  \n",
       "0                        0  \n",
       "1                        0  \n",
       "2                        0  \n",
       "3                        0  \n",
       "4                        0  "
      ]
     },
     "execution_count": 7,
     "metadata": {},
     "output_type": "execute_result"
    }
   ],
   "source": [
    "VU_dummies = pd.get_dummies(df.VehUsage, prefix='VehUsg', drop_first=False)\n",
    "VU_dummies.head()"
   ]
  },
  {
   "cell_type": "code",
   "execution_count": 8,
   "metadata": {},
   "outputs": [],
   "source": [
    "df['SocioCateg'] = df.SocioCateg.str.slice(0,4)"
   ]
  },
  {
   "cell_type": "code",
   "execution_count": 9,
   "metadata": {},
   "outputs": [
    {
     "data": {
      "text/html": [
       "<div>\n",
       "<style scoped>\n",
       "    .dataframe tbody tr th:only-of-type {\n",
       "        vertical-align: middle;\n",
       "    }\n",
       "\n",
       "    .dataframe tbody tr th {\n",
       "        vertical-align: top;\n",
       "    }\n",
       "\n",
       "    .dataframe thead th {\n",
       "        text-align: right;\n",
       "    }\n",
       "</style>\n",
       "<table border=\"1\" class=\"dataframe\">\n",
       "  <thead>\n",
       "    <tr style=\"text-align: right;\">\n",
       "      <th></th>\n",
       "      <th>Frequency</th>\n",
       "    </tr>\n",
       "  </thead>\n",
       "  <tbody>\n",
       "    <tr>\n",
       "      <th>CSP9</th>\n",
       "      <td>10</td>\n",
       "    </tr>\n",
       "    <tr>\n",
       "      <th>CSP7</th>\n",
       "      <td>55</td>\n",
       "    </tr>\n",
       "    <tr>\n",
       "      <th>CSP3</th>\n",
       "      <td>837</td>\n",
       "    </tr>\n",
       "    <tr>\n",
       "      <th>CSP2</th>\n",
       "      <td>1476</td>\n",
       "    </tr>\n",
       "    <tr>\n",
       "      <th>CSP1</th>\n",
       "      <td>1975</td>\n",
       "    </tr>\n",
       "    <tr>\n",
       "      <th>CSP4</th>\n",
       "      <td>3279</td>\n",
       "    </tr>\n",
       "    <tr>\n",
       "      <th>CSP6</th>\n",
       "      <td>4885</td>\n",
       "    </tr>\n",
       "    <tr>\n",
       "      <th>CSP5</th>\n",
       "      <td>28215</td>\n",
       "    </tr>\n",
       "  </tbody>\n",
       "</table>\n",
       "</div>"
      ],
      "text/plain": [
       "      Frequency\n",
       "CSP9         10\n",
       "CSP7         55\n",
       "CSP3        837\n",
       "CSP2       1476\n",
       "CSP1       1975\n",
       "CSP4       3279\n",
       "CSP6       4885\n",
       "CSP5      28215"
      ]
     },
     "execution_count": 9,
     "metadata": {},
     "output_type": "execute_result"
    }
   ],
   "source": [
    "pd.DataFrame(df.SocioCateg.value_counts().sort_values()).rename({'SocioCateg': 'Frequency'}, axis=1)"
   ]
  },
  {
   "cell_type": "code",
   "execution_count": 10,
   "metadata": {},
   "outputs": [],
   "source": [
    "df = pd.get_dummies(df, columns=['VehUsage','SocioCateg'])"
   ]
  },
  {
   "cell_type": "code",
   "execution_count": 11,
   "metadata": {},
   "outputs": [],
   "source": [
    "df = df.select_dtypes(exclude=['object'])"
   ]
  },
  {
   "cell_type": "code",
   "execution_count": 12,
   "metadata": {},
   "outputs": [
    {
     "data": {
      "text/html": [
       "<div>\n",
       "<style scoped>\n",
       "    .dataframe tbody tr th:only-of-type {\n",
       "        vertical-align: middle;\n",
       "    }\n",
       "\n",
       "    .dataframe tbody tr th {\n",
       "        vertical-align: top;\n",
       "    }\n",
       "\n",
       "    .dataframe thead th {\n",
       "        text-align: right;\n",
       "    }\n",
       "</style>\n",
       "<table border=\"1\" class=\"dataframe\">\n",
       "  <thead>\n",
       "    <tr style=\"text-align: right;\">\n",
       "      <th></th>\n",
       "      <th>Exposure</th>\n",
       "      <th>LicAge</th>\n",
       "      <th>Gender</th>\n",
       "      <th>MariStat</th>\n",
       "      <th>DrivAge</th>\n",
       "      <th>HasKmLimit</th>\n",
       "      <th>BonusMalus</th>\n",
       "      <th>ClaimAmount</th>\n",
       "      <th>RiskVar</th>\n",
       "      <th>ClaimInd</th>\n",
       "      <th>VehUsage_Private</th>\n",
       "      <th>VehUsage_Private+trip to office</th>\n",
       "      <th>VehUsage_Professional</th>\n",
       "      <th>VehUsage_Professional run</th>\n",
       "      <th>SocioCateg_CSP1</th>\n",
       "      <th>SocioCateg_CSP2</th>\n",
       "      <th>SocioCateg_CSP3</th>\n",
       "      <th>SocioCateg_CSP4</th>\n",
       "      <th>SocioCateg_CSP5</th>\n",
       "      <th>SocioCateg_CSP6</th>\n",
       "      <th>SocioCateg_CSP7</th>\n",
       "      <th>SocioCateg_CSP9</th>\n",
       "      <th>DrivAgeSq</th>\n",
       "    </tr>\n",
       "  </thead>\n",
       "  <tbody>\n",
       "    <tr>\n",
       "      <th>0</th>\n",
       "      <td>0.583</td>\n",
       "      <td>366</td>\n",
       "      <td>0</td>\n",
       "      <td>0</td>\n",
       "      <td>55</td>\n",
       "      <td>0</td>\n",
       "      <td>72</td>\n",
       "      <td>0.000000</td>\n",
       "      <td>15.0</td>\n",
       "      <td>0</td>\n",
       "      <td>0</td>\n",
       "      <td>0</td>\n",
       "      <td>1</td>\n",
       "      <td>0</td>\n",
       "      <td>1</td>\n",
       "      <td>0</td>\n",
       "      <td>0</td>\n",
       "      <td>0</td>\n",
       "      <td>0</td>\n",
       "      <td>0</td>\n",
       "      <td>0</td>\n",
       "      <td>0</td>\n",
       "      <td>3025</td>\n",
       "    </tr>\n",
       "    <tr>\n",
       "      <th>1</th>\n",
       "      <td>0.200</td>\n",
       "      <td>187</td>\n",
       "      <td>1</td>\n",
       "      <td>1</td>\n",
       "      <td>34</td>\n",
       "      <td>0</td>\n",
       "      <td>80</td>\n",
       "      <td>0.000000</td>\n",
       "      <td>20.0</td>\n",
       "      <td>0</td>\n",
       "      <td>0</td>\n",
       "      <td>1</td>\n",
       "      <td>0</td>\n",
       "      <td>0</td>\n",
       "      <td>0</td>\n",
       "      <td>0</td>\n",
       "      <td>0</td>\n",
       "      <td>0</td>\n",
       "      <td>1</td>\n",
       "      <td>0</td>\n",
       "      <td>0</td>\n",
       "      <td>0</td>\n",
       "      <td>1156</td>\n",
       "    </tr>\n",
       "    <tr>\n",
       "      <th>2</th>\n",
       "      <td>0.083</td>\n",
       "      <td>169</td>\n",
       "      <td>0</td>\n",
       "      <td>0</td>\n",
       "      <td>33</td>\n",
       "      <td>0</td>\n",
       "      <td>63</td>\n",
       "      <td>0.000000</td>\n",
       "      <td>17.0</td>\n",
       "      <td>0</td>\n",
       "      <td>0</td>\n",
       "      <td>0</td>\n",
       "      <td>1</td>\n",
       "      <td>0</td>\n",
       "      <td>1</td>\n",
       "      <td>0</td>\n",
       "      <td>0</td>\n",
       "      <td>0</td>\n",
       "      <td>0</td>\n",
       "      <td>0</td>\n",
       "      <td>0</td>\n",
       "      <td>0</td>\n",
       "      <td>1089</td>\n",
       "    </tr>\n",
       "    <tr>\n",
       "      <th>3</th>\n",
       "      <td>0.375</td>\n",
       "      <td>170</td>\n",
       "      <td>0</td>\n",
       "      <td>0</td>\n",
       "      <td>34</td>\n",
       "      <td>0</td>\n",
       "      <td>63</td>\n",
       "      <td>0.000000</td>\n",
       "      <td>17.0</td>\n",
       "      <td>0</td>\n",
       "      <td>0</td>\n",
       "      <td>0</td>\n",
       "      <td>1</td>\n",
       "      <td>0</td>\n",
       "      <td>1</td>\n",
       "      <td>0</td>\n",
       "      <td>0</td>\n",
       "      <td>0</td>\n",
       "      <td>0</td>\n",
       "      <td>0</td>\n",
       "      <td>0</td>\n",
       "      <td>0</td>\n",
       "      <td>1156</td>\n",
       "    </tr>\n",
       "    <tr>\n",
       "      <th>4</th>\n",
       "      <td>0.500</td>\n",
       "      <td>224</td>\n",
       "      <td>1</td>\n",
       "      <td>0</td>\n",
       "      <td>53</td>\n",
       "      <td>0</td>\n",
       "      <td>72</td>\n",
       "      <td>1418.610272</td>\n",
       "      <td>19.0</td>\n",
       "      <td>1</td>\n",
       "      <td>0</td>\n",
       "      <td>0</td>\n",
       "      <td>1</td>\n",
       "      <td>0</td>\n",
       "      <td>0</td>\n",
       "      <td>0</td>\n",
       "      <td>0</td>\n",
       "      <td>1</td>\n",
       "      <td>0</td>\n",
       "      <td>0</td>\n",
       "      <td>0</td>\n",
       "      <td>0</td>\n",
       "      <td>2809</td>\n",
       "    </tr>\n",
       "  </tbody>\n",
       "</table>\n",
       "</div>"
      ],
      "text/plain": [
       "   Exposure  LicAge  Gender  MariStat  DrivAge  HasKmLimit  BonusMalus  \\\n",
       "0     0.583     366       0         0       55           0          72   \n",
       "1     0.200     187       1         1       34           0          80   \n",
       "2     0.083     169       0         0       33           0          63   \n",
       "3     0.375     170       0         0       34           0          63   \n",
       "4     0.500     224       1         0       53           0          72   \n",
       "\n",
       "   ClaimAmount  RiskVar  ClaimInd  VehUsage_Private  \\\n",
       "0     0.000000     15.0         0                 0   \n",
       "1     0.000000     20.0         0                 0   \n",
       "2     0.000000     17.0         0                 0   \n",
       "3     0.000000     17.0         0                 0   \n",
       "4  1418.610272     19.0         1                 0   \n",
       "\n",
       "   VehUsage_Private+trip to office  VehUsage_Professional  \\\n",
       "0                                0                      1   \n",
       "1                                1                      0   \n",
       "2                                0                      1   \n",
       "3                                0                      1   \n",
       "4                                0                      1   \n",
       "\n",
       "   VehUsage_Professional run  SocioCateg_CSP1  SocioCateg_CSP2  \\\n",
       "0                          0                1                0   \n",
       "1                          0                0                0   \n",
       "2                          0                1                0   \n",
       "3                          0                1                0   \n",
       "4                          0                0                0   \n",
       "\n",
       "   SocioCateg_CSP3  SocioCateg_CSP4  SocioCateg_CSP5  SocioCateg_CSP6  \\\n",
       "0                0                0                0                0   \n",
       "1                0                0                1                0   \n",
       "2                0                0                0                0   \n",
       "3                0                0                0                0   \n",
       "4                0                1                0                0   \n",
       "\n",
       "   SocioCateg_CSP7  SocioCateg_CSP9  DrivAgeSq  \n",
       "0                0                0       3025  \n",
       "1                0                0       1156  \n",
       "2                0                0       1089  \n",
       "3                0                0       1156  \n",
       "4                0                0       2809  "
      ]
     },
     "execution_count": 12,
     "metadata": {},
     "output_type": "execute_result"
    }
   ],
   "source": [
    "df['DrivAgeSq'] = df.DrivAge.apply(lambda x: x**2)\n",
    "df.head()"
   ]
  },
  {
   "cell_type": "code",
   "execution_count": 13,
   "metadata": {},
   "outputs": [
    {
     "data": {
      "text/plain": [
       "array([14, 19, 16, 18,  9, 15,  0,  7, 17, 10, 13, 12, 11,  8,  5,  2,  6,\n",
       "        4,  3,  1])"
      ]
     },
     "execution_count": 13,
     "metadata": {},
     "output_type": "execute_result"
    }
   ],
   "source": [
    "df['RiskVar'] = (df['RiskVar'] - 1).astype(int)\n",
    "df['RiskVar'].unique()"
   ]
  },
  {
   "cell_type": "code",
   "execution_count": 14,
   "metadata": {},
   "outputs": [],
   "source": [
    "FreqCount = pd.DataFrame(df.groupby('RiskVar').size(), columns=['Count'])\n",
    "FreqCount['Freq'] = FreqCount['Count'] / FreqCount['Count'].sum()"
   ]
  },
  {
   "cell_type": "code",
   "execution_count": 15,
   "metadata": {},
   "outputs": [
    {
     "data": {
      "image/png": "[encoded data removed]",
      "text/plain": [
       "<Figure size 432x288 with 1 Axes>"
      ]
     },
     "metadata": {
      "needs_background": "light"
     },
     "output_type": "display_data"
    }
   ],
   "source": [
    "FreqCount.Freq.plot(kind='bar')\n",
    "plt.ylabel('Frequency')\n",
    "plt.show()"
   ]
  },
  {
   "cell_type": "code",
   "execution_count": 16,
   "metadata": {},
   "outputs": [],
   "source": [
    "weights = class_weight.compute_class_weight('balanced',\n",
    "                                                 df.RiskVar.unique(),\n",
    "                                                 df.RiskVar)"
   ]
  },
  {
   "cell_type": "code",
   "execution_count": 17,
   "metadata": {},
   "outputs": [],
   "source": [
    "def make_weight (row):\n",
    "   return weights[int(row['RiskVar'])]"
   ]
  },
  {
   "cell_type": "code",
   "execution_count": 18,
   "metadata": {},
   "outputs": [],
   "source": [
    "df['weight'] = df.apply (lambda row: make_weight(row), axis=1)"
   ]
  },
  {
   "cell_type": "code",
   "execution_count": 19,
   "metadata": {},
   "outputs": [
    {
     "data": {
      "text/html": [
       "<div>\n",
       "<style scoped>\n",
       "    .dataframe tbody tr th:only-of-type {\n",
       "        vertical-align: middle;\n",
       "    }\n",
       "\n",
       "    .dataframe tbody tr th {\n",
       "        vertical-align: top;\n",
       "    }\n",
       "\n",
       "    .dataframe thead th {\n",
       "        text-align: right;\n",
       "    }\n",
       "</style>\n",
       "<table border=\"1\" class=\"dataframe\">\n",
       "  <thead>\n",
       "    <tr style=\"text-align: right;\">\n",
       "      <th></th>\n",
       "      <th>Exposure</th>\n",
       "      <th>LicAge</th>\n",
       "      <th>Gender</th>\n",
       "      <th>MariStat</th>\n",
       "      <th>DrivAge</th>\n",
       "      <th>HasKmLimit</th>\n",
       "      <th>BonusMalus</th>\n",
       "      <th>ClaimAmount</th>\n",
       "      <th>RiskVar</th>\n",
       "      <th>ClaimInd</th>\n",
       "      <th>VehUsage_Private</th>\n",
       "      <th>VehUsage_Private+trip to office</th>\n",
       "      <th>VehUsage_Professional</th>\n",
       "      <th>VehUsage_Professional run</th>\n",
       "      <th>SocioCateg_CSP1</th>\n",
       "      <th>SocioCateg_CSP2</th>\n",
       "      <th>SocioCateg_CSP3</th>\n",
       "      <th>SocioCateg_CSP4</th>\n",
       "      <th>SocioCateg_CSP5</th>\n",
       "      <th>SocioCateg_CSP6</th>\n",
       "      <th>SocioCateg_CSP7</th>\n",
       "      <th>SocioCateg_CSP9</th>\n",
       "      <th>DrivAgeSq</th>\n",
       "      <th>weight</th>\n",
       "    </tr>\n",
       "  </thead>\n",
       "  <tbody>\n",
       "    <tr>\n",
       "      <th>0</th>\n",
       "      <td>0.583</td>\n",
       "      <td>366</td>\n",
       "      <td>0</td>\n",
       "      <td>0</td>\n",
       "      <td>55</td>\n",
       "      <td>0</td>\n",
       "      <td>72</td>\n",
       "      <td>0.000000</td>\n",
       "      <td>14</td>\n",
       "      <td>0</td>\n",
       "      <td>0</td>\n",
       "      <td>0</td>\n",
       "      <td>1</td>\n",
       "      <td>0</td>\n",
       "      <td>1</td>\n",
       "      <td>0</td>\n",
       "      <td>0</td>\n",
       "      <td>0</td>\n",
       "      <td>0</td>\n",
       "      <td>0</td>\n",
       "      <td>0</td>\n",
       "      <td>0</td>\n",
       "      <td>3025</td>\n",
       "      <td>2.257871</td>\n",
       "    </tr>\n",
       "    <tr>\n",
       "      <th>1</th>\n",
       "      <td>0.200</td>\n",
       "      <td>187</td>\n",
       "      <td>1</td>\n",
       "      <td>1</td>\n",
       "      <td>34</td>\n",
       "      <td>0</td>\n",
       "      <td>80</td>\n",
       "      <td>0.000000</td>\n",
       "      <td>19</td>\n",
       "      <td>0</td>\n",
       "      <td>0</td>\n",
       "      <td>1</td>\n",
       "      <td>0</td>\n",
       "      <td>0</td>\n",
       "      <td>0</td>\n",
       "      <td>0</td>\n",
       "      <td>0</td>\n",
       "      <td>0</td>\n",
       "      <td>1</td>\n",
       "      <td>0</td>\n",
       "      <td>0</td>\n",
       "      <td>0</td>\n",
       "      <td>1156</td>\n",
       "      <td>4.515743</td>\n",
       "    </tr>\n",
       "    <tr>\n",
       "      <th>2</th>\n",
       "      <td>0.083</td>\n",
       "      <td>169</td>\n",
       "      <td>0</td>\n",
       "      <td>0</td>\n",
       "      <td>33</td>\n",
       "      <td>0</td>\n",
       "      <td>63</td>\n",
       "      <td>0.000000</td>\n",
       "      <td>16</td>\n",
       "      <td>0</td>\n",
       "      <td>0</td>\n",
       "      <td>0</td>\n",
       "      <td>1</td>\n",
       "      <td>0</td>\n",
       "      <td>1</td>\n",
       "      <td>0</td>\n",
       "      <td>0</td>\n",
       "      <td>0</td>\n",
       "      <td>0</td>\n",
       "      <td>0</td>\n",
       "      <td>0</td>\n",
       "      <td>0</td>\n",
       "      <td>1089</td>\n",
       "      <td>1.246389</td>\n",
       "    </tr>\n",
       "    <tr>\n",
       "      <th>3</th>\n",
       "      <td>0.375</td>\n",
       "      <td>170</td>\n",
       "      <td>0</td>\n",
       "      <td>0</td>\n",
       "      <td>34</td>\n",
       "      <td>0</td>\n",
       "      <td>63</td>\n",
       "      <td>0.000000</td>\n",
       "      <td>16</td>\n",
       "      <td>0</td>\n",
       "      <td>0</td>\n",
       "      <td>0</td>\n",
       "      <td>1</td>\n",
       "      <td>0</td>\n",
       "      <td>1</td>\n",
       "      <td>0</td>\n",
       "      <td>0</td>\n",
       "      <td>0</td>\n",
       "      <td>0</td>\n",
       "      <td>0</td>\n",
       "      <td>0</td>\n",
       "      <td>0</td>\n",
       "      <td>1156</td>\n",
       "      <td>1.246389</td>\n",
       "    </tr>\n",
       "    <tr>\n",
       "      <th>4</th>\n",
       "      <td>0.500</td>\n",
       "      <td>224</td>\n",
       "      <td>1</td>\n",
       "      <td>0</td>\n",
       "      <td>53</td>\n",
       "      <td>0</td>\n",
       "      <td>72</td>\n",
       "      <td>1418.610272</td>\n",
       "      <td>18</td>\n",
       "      <td>1</td>\n",
       "      <td>0</td>\n",
       "      <td>0</td>\n",
       "      <td>1</td>\n",
       "      <td>0</td>\n",
       "      <td>0</td>\n",
       "      <td>0</td>\n",
       "      <td>0</td>\n",
       "      <td>1</td>\n",
       "      <td>0</td>\n",
       "      <td>0</td>\n",
       "      <td>0</td>\n",
       "      <td>0</td>\n",
       "      <td>2809</td>\n",
       "      <td>3.377446</td>\n",
       "    </tr>\n",
       "  </tbody>\n",
       "</table>\n",
       "</div>"
      ],
      "text/plain": [
       "   Exposure  LicAge  Gender  MariStat  DrivAge  HasKmLimit  BonusMalus  \\\n",
       "0     0.583     366       0         0       55           0          72   \n",
       "1     0.200     187       1         1       34           0          80   \n",
       "2     0.083     169       0         0       33           0          63   \n",
       "3     0.375     170       0         0       34           0          63   \n",
       "4     0.500     224       1         0       53           0          72   \n",
       "\n",
       "   ClaimAmount  RiskVar  ClaimInd  VehUsage_Private  \\\n",
       "0     0.000000       14         0                 0   \n",
       "1     0.000000       19         0                 0   \n",
       "2     0.000000       16         0                 0   \n",
       "3     0.000000       16         0                 0   \n",
       "4  1418.610272       18         1                 0   \n",
       "\n",
       "   VehUsage_Private+trip to office  VehUsage_Professional  \\\n",
       "0                                0                      1   \n",
       "1                                1                      0   \n",
       "2                                0                      1   \n",
       "3                                0                      1   \n",
       "4                                0                      1   \n",
       "\n",
       "   VehUsage_Professional run  SocioCateg_CSP1  SocioCateg_CSP2  \\\n",
       "0                          0                1                0   \n",
       "1                          0                0                0   \n",
       "2                          0                1                0   \n",
       "3                          0                1                0   \n",
       "4                          0                0                0   \n",
       "\n",
       "   SocioCateg_CSP3  SocioCateg_CSP4  SocioCateg_CSP5  SocioCateg_CSP6  \\\n",
       "0                0                0                0                0   \n",
       "1                0                0                1                0   \n",
       "2                0                0                0                0   \n",
       "3                0                0                0                0   \n",
       "4                0                1                0                0   \n",
       "\n",
       "   SocioCateg_CSP7  SocioCateg_CSP9  DrivAgeSq    weight  \n",
       "0                0                0       3025  2.257871  \n",
       "1                0                0       1156  4.515743  \n",
       "2                0                0       1089  1.246389  \n",
       "3                0                0       1156  1.246389  \n",
       "4                0                0       2809  3.377446  "
      ]
     },
     "execution_count": 19,
     "metadata": {},
     "output_type": "execute_result"
    }
   ],
   "source": [
    "df.head()"
   ]
  },
  {
   "cell_type": "code",
   "execution_count": 20,
   "metadata": {},
   "outputs": [],
   "source": [
    "TARGET = 'RiskVar'"
   ]
  },
  {
   "cell_type": "code",
   "execution_count": 21,
   "metadata": {},
   "outputs": [],
   "source": [
    "# Разбиение датасета на train/val/test\n",
    "\n",
    "x_train, x_test, y_train, y_test = train_test_split(df.drop(columns=TARGET, axis=1), df[TARGET], stratify= df[TARGET], test_size=0.3, random_state=10)\n",
    "x_valid, x_test, y_valid, y_test = train_test_split(x_test, y_test, stratify= y_test, test_size=0.5, random_state=10)"
   ]
  },
  {
   "cell_type": "code",
   "execution_count": 22,
   "metadata": {},
   "outputs": [],
   "source": [
    "xgb_train = xgb.DMatrix(data=x_train.drop('weight', axis=1),label= (y_train), weight=x_train['weight'])\n",
    "xgb_valid = xgb.DMatrix(data=x_valid.drop('weight', axis=1),label= (y_valid), weight=x_train['weight'])\n",
    "xgb_test =  xgb.DMatrix(data=x_test.drop('weight', axis=1), label= (y_test), weight=x_train['weight'])"
   ]
  },
  {
   "cell_type": "code",
   "execution_count": 37,
   "metadata": {},
   "outputs": [
    {
     "name": "stdout",
     "output_type": "stream",
     "text": [
      "[12:24:43] WARNING: C:\\Users\\Administrator\\workspace\\xgboost-win64_master\\src\\learner.cc:334: \n",
      "Parameters: { num_boost_round } might not be used.\n",
      "\n",
      "  This may not be accurate due to some parameters are only used in language bindings but\n",
      "  passed down to XGBoost core.  Or some parameters are not used but slip through this\n",
      "  verification. Please open an issue if you find above cases.\n",
      "\n",
      "\n"
     ]
    }
   ],
   "source": [
    "params ={\n",
    "        'alpha': 0.3986441563854538,\n",
    "        'colsample_bytree': 0.5556413857890639,\n",
    "        'eta': 0.2037337545723714,\n",
    "        'eval_metric': 'mlogloss',\n",
    "        'gpu_id': 0,\n",
    "        'lambda': 0.837256082412685,\n",
    "        'max_depth': 12,\n",
    "        'min_child_weight': 6.157717810193642,\n",
    "        'num_boost_round': 223.0,\n",
    "        'num_class': 20,\n",
    "        'objective': 'multi:softprob',\n",
    "        'seed': 10,\n",
    "        'subsample': 0.7790309580091659,\n",
    "        'tree_method': 'gpu_hist'\n",
    "        }\n",
    "\n",
    "model = xgb.train(params,  xgb_train)"
   ]
  },
  {
   "cell_type": "code",
   "execution_count": 24,
   "metadata": {},
   "outputs": [],
   "source": [
    "def prepare_result(predictions):\n",
    "    df_class_preds = pd.DataFrame(predictions)\n",
    "    return df_class_preds.idxmax(axis=1)"
   ]
  },
  {
   "cell_type": "code",
   "execution_count": 25,
   "metadata": {},
   "outputs": [
    {
     "name": "stdout",
     "output_type": "stream",
     "text": [
      "Logloss:1.9640126264265378\n",
      "f1_score:0.41708754208754206\n",
      "Logloss:3.083369621563453\n",
      "f1_score:0.1530278232405892\n"
     ]
    }
   ],
   "source": [
    "from sklearn.metrics import log_loss\n",
    "\n",
    "def print_score(model, x_valid, label_valid):\n",
    "  pred_valid = model.predict(x_valid)\n",
    "  score = log_loss(label_valid, pred_valid, labels=range(20))\n",
    "  print(f'Logloss:{score}')\n",
    "  score = f1_score(label_valid, prepare_result(pred_valid)  , average='micro')\n",
    "  print(f'f1_score:{score}')\n",
    "\n",
    "print_score(model, xgb_train, y_train)\n",
    "print_score(model, xgb_valid, y_valid)"
   ]
  },
  {
   "cell_type": "code",
   "execution_count": 26,
   "metadata": {},
   "outputs": [
    {
     "data": {
      "image/png": "[encoded data removed]",
      "text/plain": [
       "<Figure size 432x288 with 1 Axes>"
      ]
     },
     "metadata": {
      "needs_background": "light"
     },
     "output_type": "display_data"
    }
   ],
   "source": [
    "importance_type = ['total_gain', 'gain', 'weight', 'total_cover', 'cover']\n",
    "xgb.plot_importance(model, height=0.8)\n",
    "plt.show()"
   ]
  },
  {
   "cell_type": "code",
   "execution_count": 27,
   "metadata": {},
   "outputs": [
    {
     "data": {
      "text/plain": [
       "[('LicAge', 6120),\n",
       " ('Exposure', 5494),\n",
       " ('DrivAge', 4403),\n",
       " ('BonusMalus', 3143),\n",
       " ('DrivAgeSq', 1319),\n",
       " ('ClaimAmount', 1015),\n",
       " ('Gender', 795),\n",
       " ('MariStat', 611),\n",
       " ('VehUsage_Private+trip to office', 579),\n",
       " ('VehUsage_Private', 566),\n",
       " ('SocioCateg_CSP5', 499),\n",
       " ('HasKmLimit', 442),\n",
       " ('VehUsage_Professional', 383),\n",
       " ('SocioCateg_CSP4', 271),\n",
       " ('SocioCateg_CSP6', 180),\n",
       " ('SocioCateg_CSP1', 178),\n",
       " ('SocioCateg_CSP3', 102),\n",
       " ('SocioCateg_CSP2', 97),\n",
       " ('ClaimInd', 95),\n",
       " ('VehUsage_Professional run', 77),\n",
       " ('SocioCateg_CSP7', 16),\n",
       " ('SocioCateg_CSP9', 3)]"
      ]
     },
     "execution_count": 27,
     "metadata": {},
     "output_type": "execute_result"
    }
   ],
   "source": [
    "ALL_FEATS=sorted(model.get_fscore().items(), key=lambda x:x[1], reverse=True)\n",
    "ALL_FEATS"
   ]
  },
  {
   "cell_type": "code",
   "execution_count": 28,
   "metadata": {},
   "outputs": [],
   "source": [
    "def f1_eval(y_pred, dtrain):\n",
    "    y_true = dtrain.get_label()\n",
    "    df_class_preds = pd.DataFrame(y_pred)\n",
    "    y_pred_max =  df_class_preds.idxmax(axis=1)\n",
    "    err = 1-f1_score( y_true, y_pred_max, average='micro')    \n",
    "    return 'f1_err', err"
   ]
  },
  {
   "cell_type": "code",
   "execution_count": 29,
   "metadata": {},
   "outputs": [],
   "source": [
    "# Определим функцию для оптимизации гиперпараметров алгоритмом TPE\n",
    "\n",
    "def objective(params):\n",
    "    global xgb_train\n",
    "    parameters = {\n",
    "        'objective': params[ 'objective'],\n",
    "        'max_depth':  int(params['max_depth']),\n",
    "        'min_child_weight': params['min_child_weight'],\n",
    "        'subsample': params['subsample'],\n",
    "        'colsample_bytree': params['colsample_bytree'],\n",
    "        'eta': params['eta'],\n",
    "        'alpha': params['alpha'],\n",
    "        'lambda': params['lambda'],\n",
    "        'num_class': params[ 'num_class'],\n",
    "        'eval_metric':params['eval_metric'],\n",
    "        'seed':params['seed'],\n",
    "        'gpu_id':params['gpu_id'],\n",
    "        'tree_method':params['tree_method']\n",
    "    }\n",
    "    \n",
    "    cv_result = xgb.cv(parameters, xgb_train, num_boost_round=int(params['num_boost_round']), nfold=5, seed=10, maximize=False, early_stopping_rounds=10, feval=f1_eval)\n",
    "    score = cv_result['test-f1_err-mean'][-1:].values[0]\n",
    "    return score"
   ]
  },
  {
   "cell_type": "code",
   "execution_count": 30,
   "metadata": {},
   "outputs": [],
   "source": [
    "# Определим границы, в которых будем искать гиперпараметры \n",
    "\n",
    "space = {\n",
    "        'num_boost_round': hp.quniform('num_boost_round', 50, 500, 1),\n",
    "        'max_depth': hp.choice('max_depth', [5, 8, 10, 12, 15]),\n",
    "        'min_child_weight': hp.uniform('min_child_weight', 0, 50),\n",
    "        'subsample': hp.uniform('subsample', 0.5, 1),\n",
    "        'colsample_bytree': hp.uniform('colsample_bytree', 0.5, 1),\n",
    "        'alpha': hp.uniform('alpha', 0, 1),\n",
    "        'lambda': hp.uniform('lambda', 0, 1),\n",
    "        'eta': hp.uniform('eta', 0.01, 1),\n",
    "        'num_class': 20,\n",
    "        'objective': 'multi:softprob',\n",
    "        'eval_metric':'mlogloss',\n",
    "        'tree_method': 'gpu_hist',\n",
    "        'seed':10,\n",
    "        'gpu_id':0\n",
    "        }"
   ]
  },
  {
   "cell_type": "code",
   "execution_count": 31,
   "metadata": {},
   "outputs": [
    {
     "name": "stdout",
     "output_type": "stream",
     "text": [
      "100%|██████████| 20/20 [55:38<00:00, 166.95s/trial, best loss: 0.819725]          \n"
     ]
    }
   ],
   "source": [
    "best = fmin(fn=objective, space=space, algo=tpe.suggest, max_evals=20)"
   ]
  },
  {
   "cell_type": "code",
   "execution_count": 32,
   "metadata": {},
   "outputs": [
    {
     "data": {
      "text/plain": [
       "{'alpha': 0.3986441563854538,\n",
       " 'colsample_bytree': 0.5556413857890639,\n",
       " 'eta': 0.2037337545723714,\n",
       " 'eval_metric': 'mlogloss',\n",
       " 'gpu_id': 0,\n",
       " 'lambda': 0.837256082412685,\n",
       " 'max_depth': 12,\n",
       " 'min_child_weight': 6.157717810193642,\n",
       " 'num_boost_round': 223.0,\n",
       " 'num_class': 20,\n",
       " 'objective': 'multi:softprob',\n",
       " 'seed': 10,\n",
       " 'subsample': 0.7790309580091659,\n",
       " 'tree_method': 'gpu_hist'}"
      ]
     },
     "execution_count": 32,
     "metadata": {},
     "output_type": "execute_result"
    }
   ],
   "source": [
    "best_params = space_eval(space, best)\n",
    "best_params"
   ]
  },
  {
   "cell_type": "code",
   "execution_count": 33,
   "metadata": {},
   "outputs": [],
   "source": [
    "progress = dict()\n",
    "xgb_multiclass = xgb.train(num_boost_round=int(best_params.pop('num_boost_round')), params=best_params,  dtrain=xgb_train, feval=f1_eval, maximize=False, evals=[(xgb_train, \"train\"),(xgb_valid, \"valid\")], \n",
    "                           early_stopping_rounds=15, evals_result=progress, verbose_eval=False)"
   ]
  },
  {
   "cell_type": "code",
   "execution_count": 34,
   "metadata": {},
   "outputs": [
    {
     "data": {
      "image/png": "[encoded data removed]",
      "text/plain": [
       "<Figure size 720x432 with 2 Axes>"
      ]
     },
     "metadata": {
      "needs_background": "light"
     },
     "output_type": "display_data"
    }
   ],
   "source": [
    "plt.subplots(2,1, figsize=(10,6))\n",
    "plt.subplot(2,1,1)\n",
    "plt.plot(progress['valid']['mlogloss'], label='valid mlogloss', linestyle='dashed', color='blue')\n",
    "plt.plot(progress['train']['mlogloss'], label='train mlogloss', linestyle='dashed', color='red')\n",
    "plt.xlabel('Epochs'); plt.ylabel('mlogloss'); plt.legend(); plt.tight_layout()\n",
    "plt.subplot(2,1,2)\n",
    "plt.plot(progress['valid']['f1_err'], label='valid f1_err', linestyle='dashed', color='blue')\n",
    "plt.plot(progress['train']['f1_err'], label='train f1_err', linestyle='dashed', color='red')\n",
    "plt.xlabel('Epochs'); plt.ylabel('f1_err'); plt.legend(); plt.tight_layout()"
   ]
  },
  {
   "cell_type": "code",
   "execution_count": 35,
   "metadata": {},
   "outputs": [
    {
     "name": "stdout",
     "output_type": "stream",
     "text": [
      "F1 Score on train: 0.6618616722783389\n",
      "F1 Score on valid: 0.20572831423895255\n",
      "F1 Score on test: 0.18527004909983633\n"
     ]
    }
   ],
   "source": [
    "dfsets = [{'set': 'train', 'dmat': xgb_train, 'target': y_train},\n",
    "          {'set': 'valid', 'dmat': xgb_valid, 'target': y_valid},\n",
    "          {'set': 'test', 'dmat': xgb_test, 'target': y_test}]\n",
    "for dfset in dfsets:\n",
    "    class_preds =  prepare_result(xgb_multiclass.predict(dfset['dmat']))\n",
    "    print('F1 Score on ' + str(dfset['set'])+':', f1_score(dfset['target'], class_preds , average='micro')) "
   ]
  },
  {
   "cell_type": "code",
   "execution_count": 36,
   "metadata": {},
   "outputs": [
    {
     "data": {
      "image/png": "[encoded data removed]",
      "text/plain": [
       "<Figure size 1800x216 with 6 Axes>"
      ]
     },
     "metadata": {
      "needs_background": "light"
     },
     "output_type": "display_data"
    }
   ],
   "source": [
    "plt.subplots(1,3, figsize=(25,3))\n",
    "for i in range(len(dfsets)):\n",
    "    confmatrix = confusion_matrix(dfsets[i]['target'], prepare_result(xgb_multiclass.predict(dfsets[i]['dmat'])))\n",
    "    plt.subplot(1,3,i+1)\n",
    "    plt.imshow(confmatrix, cmap='Greys')\n",
    "    plt.colorbar()\n",
    "    plt.ylabel('True')\n",
    "    plt.xlabel('Predicted '+ str(dfsets[i]['set']))\n",
    "plt.show()"
   ]
  },
  {
   "cell_type": "markdown",
   "metadata": {},
   "source": [
    "О модели:\n",
    "\n",
    "Модель переобучена - оценка метрики на train сильно отличается от valid и test. При этом графике хорошо видно, как быстро модель на train переобучается. Регулиризация L1 и L2 помогает слабо по найденным параметрам alpha и lambda.\n",
    "Из-за преобладания классов 14 и 15 (дисбаланс классов), то к ним ошибочно модель относит другие метки, что хорошо видно на матрице. Добавление весовых коэффициентов улучшает метрику, но решает проблему дисбаланса классов не полностью."
   ]
  },
  {
   "cell_type": "code",
   "execution_count": 79,
   "metadata": {},
   "outputs": [
    {
     "name": "stdout",
     "output_type": "stream",
     "text": [
      "{\"Exposure\":{\"40090\":1.0},\"LicAge\":{\"40090\":498},\"Gender\":{\"40090\":1},\"MariStat\":{\"40090\":0},\"DrivAge\":{\"40090\":77},\"HasKmLimit\":{\"40090\":0},\"BonusMalus\":{\"40090\":50},\"ClaimAmount\":{\"40090\":0.0},\"RiskVar\":{\"40090\":14},\"ClaimInd\":{\"40090\":0},\"VehUsage_Private\":{\"40090\":1},\"VehUsage_Private+trip to office\":{\"40090\":0},\"VehUsage_Professional\":{\"40090\":0},\"VehUsage_Professional run\":{\"40090\":0},\"SocioCateg_CSP1\":{\"40090\":0},\"SocioCateg_CSP2\":{\"40090\":0},\"SocioCateg_CSP3\":{\"40090\":0},\"SocioCateg_CSP4\":{\"40090\":0},\"SocioCateg_CSP5\":{\"40090\":0},\"SocioCateg_CSP6\":{\"40090\":1},\"SocioCateg_CSP7\":{\"40090\":0},\"SocioCateg_CSP9\":{\"40090\":0},\"DrivAgeSq\":{\"40090\":5929},\"weight\":{\"40090\":2.2578713969}}\n"
     ]
    }
   ],
   "source": [
    "from flask_ngrok import run_with_ngrok\n",
    "from flask import Flask, request, jsonify\n",
    "a = df.sample(n=1).to_json()\n",
    "print(a)"
   ]
  },
  {
   "cell_type": "code",
   "execution_count": 92,
   "metadata": {},
   "outputs": [],
   "source": [
    "# Обработчики и запуск Flask\n",
    "\n",
    "app = Flask(__name__)\n",
    "run_with_ngrok(app)  # Start ngrok when app is run\n",
    "\n",
    "def map_for_dict_Gender(Gender):\n",
    "  dict_Gender = {'Male':0, 'Female':1}\n",
    "  res = dict_Gender.get(Gender)\n",
    "  return res\n",
    "\n",
    "def map_for_dict_MariStat(MariStat):\n",
    "  dict_MariStat = {'Other':0, 'Alone':1}\n",
    "  res = dict_MariStat.get(MariStat)\n",
    "  return res\n",
    "\n",
    "def f_VehUsage_Professional(VehUsage):\n",
    "  if VehUsage == 'Professional':\n",
    "    VehUsage_Professional = 1\n",
    "  else:\n",
    "    VehUsage_Professional = 0\n",
    "  return(VehUsage_Professional)\n",
    "\n",
    "def f_VehUsage_Private_trip_to_office(VehUsage):\n",
    "  if VehUsage == 'Private+trip to office':\n",
    "    VehUsage_Private_trip_to_office = 1\n",
    "  else:\n",
    "    VehUsage_Private_trip_to_office = 0\n",
    "  return(VehUsage_Private_trip_to_office)\n",
    "\n",
    "def f_VehUsage_Private(VehUsage):\n",
    "  if VehUsage == 'Private':\n",
    "    VehUsage_Private = 1\n",
    "  else:\n",
    "    VehUsage_Privatel = 0\n",
    "  return(VehUsage_Private)\n",
    "\n",
    "def f_VehUsage_Professional_run(VehUsage):\n",
    "  if VehUsage == 'Professional run':\n",
    "    VehUsage_Professional_run = 1\n",
    "  else:\n",
    "    VehUsage_Professional_run = 0\n",
    "  return(VehUsage_Professional_run)\n",
    "\n",
    "def make_weight (row):\n",
    "   return weights[int(row['RiskVar'])]\n",
    "\n",
    "\n",
    "@app.route('/predict', methods=['GET', 'POST'])\n",
    "def predict3():\n",
    "\n",
    "    try:\n",
    "\n",
    "        json_input = request.json\n",
    "\n",
    "        ID = json_input[\"ID\"]\n",
    "        LicAge = json_input[\"LicAge\"]\n",
    "        Gender = map_for_dict_Gender(json_input[\"Gender\"])\n",
    "        MariStat = map_for_dict_MariStat(json_input[\"MariStat\"])\n",
    "        DrivAge = json_input[\"DrivAge\"]\n",
    "        HasKmLimit = json_input[\"HasKmLimit\"]\n",
    "        BonusMalus = json_input[\"BonusMalus\"]\n",
    "        VehUsg_Private = f_VehUsage_Private(json_input[\"VehUsage\"])\n",
    "        VehUsg_Private_trip_to_office = f_VehUsage_Private_trip_to_office(json_input[\"VehUsage\"])\n",
    "        VehUsg_Professional = f_VehUsage_Professional(json_input[\"VehUsage\"])\n",
    "        VehUsg_Professional_run = f_VehUsage_Professional_run(json_input[\"VehUsage\"])\n",
    "        DrivAgeSq = DrivAge ** 2\n",
    "\n",
    "        X = np.array([[\n",
    "            LicAge,\n",
    "            Gender,\n",
    "            MariStat,\n",
    "            DrivAge,\n",
    "            HasKmLimit,\n",
    "            BonusMalus,\n",
    "            VehUsg_Private,\n",
    "            VehUsg_Private_trip_to_office,\n",
    "            VehUsg_Professional,\n",
    "            VehUsg_Professional_run,\n",
    "            0,\n",
    "            0,\n",
    "            0,\n",
    "            0,\n",
    "            0,\n",
    "            0,\n",
    "            0,\n",
    "            0,\n",
    "            0,\n",
    "            0,\n",
    "            0,\n",
    "            DrivAgeSq\n",
    "        ]])\n",
    "\n",
    "\n",
    "        columns = [\n",
    "        'Exposure', \n",
    "        'LicAge', \n",
    "        'Gender', \n",
    "        'MariStat', \n",
    "        'DrivAge', \n",
    "        'HasKmLimit',\n",
    "        'BonusMalus', \n",
    "        'ClaimAmount',\n",
    "        'ClaimInd', \n",
    "        'VehUsage_Private',\n",
    "        'VehUsage_Private+trip to office',\n",
    "        'VehUsage_Professional',\n",
    "        'VehUsage_Professional run',\n",
    "        'SocioCateg_CSP1',\n",
    "        'SocioCateg_CSP2',\n",
    "        'SocioCateg_CSP3',\n",
    "        'SocioCateg_CSP4',\n",
    "        'SocioCateg_CSP5',\n",
    "        'SocioCateg_CSP6',\n",
    "        'SocioCateg_CSP7',\n",
    "        'SocioCateg_CSP9',\n",
    "        'DrivAgeSq',\n",
    "        ]\n",
    "\n",
    "\n",
    "\n",
    "        dtest = xgb.DMatrix(pd.DataFrame(X, columns=columns)) \n",
    "        prediction = xgb_multiclass.predict(dtest)\n",
    "        value = prediction[0]\n",
    "        return jsonify({'ID': json_input['ID'], 'RiskVar': str(value)})  \n",
    "    \n",
    "    except Exception as e:\n",
    "        print(e)\n",
    "        return \"Error\""
   ]
  },
  {
   "cell_type": "code",
   "execution_count": 93,
   "metadata": {
    "scrolled": true
   },
   "outputs": [
    {
     "name": "stdout",
     "output_type": "stream",
     "text": [
      " * Serving Flask app \"__main__\" (lazy loading)\n",
      " * Environment: production\n",
      "   WARNING: This is a development server. Do not use it in a production deployment.\n",
      "   Use a production WSGI server instead.\n",
      " * Debug mode: off\n"
     ]
    },
    {
     "name": "stderr",
     "output_type": "stream",
     "text": [
      " * Running on http://127.0.0.1:5000/ (Press CTRL+C to quit)\n",
      "127.0.0.1 - - [19/Feb/2020 13:28:05] \"\u001b[37mPOST /predict HTTP/1.1\u001b[0m\" 200 -\n"
     ]
    },
    {
     "name": "stdout",
     "output_type": "stream",
     "text": [
      " * Running on http://b02663a7.ngrok.io\n",
      " * Traffic stats available on http://127.0.0.1:4040\n"
     ]
    }
   ],
   "source": [
    "if __name__ == '__main__':\n",
    "    app.run()"
   ]
  }
 ],
 "metadata": {
  "kernelspec": {
   "display_name": "Python 3",
   "language": "python",
   "name": "python3"
  },
  "language_info": {
   "codemirror_mode": {
    "name": "ipython",
    "version": 3
   },
   "file_extension": ".py",
   "mimetype": "text/x-python",
   "name": "python",
   "nbconvert_exporter": "python",
   "pygments_lexer": "ipython3",
   "version": "3.7.6"
  }
 },
 "nbformat": 4,
 "nbformat_minor": 4
}
